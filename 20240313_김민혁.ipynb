{
  "nbformat": 4,
  "nbformat_minor": 0,
  "metadata": {
    "colab": {
      "provenance": [],
      "mount_file_id": "14wQa146k5siNWn0E4X43VV6RV8eaCf1n",
      "authorship_tag": "ABX9TyO1hN0UuHRDZhJhyAx6IM2i",
      "include_colab_link": true
    },
    "kernelspec": {
      "name": "python3",
      "display_name": "Python 3"
    },
    "language_info": {
      "name": "python"
    }
  },
  "cells": [
    {
      "cell_type": "markdown",
      "metadata": {
        "id": "view-in-github",
        "colab_type": "text"
      },
      "source": [
        "<a href=\"https://colab.research.google.com/github/torchtorchkimtorch/Data_Practice/blob/main/20240313_%EA%B9%80%EB%AF%BC%ED%98%81.ipynb\" target=\"_parent\"><img src=\"https://colab.research.google.com/assets/colab-badge.svg\" alt=\"Open In Colab\"/></a>"
      ]
    },
    {
      "cell_type": "markdown",
      "source": [
        "Data: https://dacon.io/competitions/official/236226/overview/description"
      ],
      "metadata": {
        "id": "xKN0TjVZ4GuL"
      }
    },
    {
      "cell_type": "markdown",
      "source": [
        "# 목표: 웹 로그 기반 조회수 예측"
      ],
      "metadata": {
        "id": "DzTPqq-K4FPb"
      }
    },
    {
      "cell_type": "markdown",
      "source": [
        "## 목차\n",
        "0. 기본 세팅\n",
        "1. 데이터 전처리\n",
        "2. 모델링\n",
        "3. 제출"
      ],
      "metadata": {
        "id": "C-LB4w_r4M4y"
      }
    },
    {
      "cell_type": "markdown",
      "source": [
        "# 0. 기본 세팅"
      ],
      "metadata": {
        "id": "WuJUh2Xv39fb"
      }
    },
    {
      "cell_type": "code",
      "execution_count": 3,
      "metadata": {
        "id": "EmKELTLogAAw"
      },
      "outputs": [],
      "source": [
        "import pandas as pd\n",
        "import numpy as np"
      ]
    },
    {
      "cell_type": "code",
      "source": [
        "from google.colab import drive\n",
        "drive.mount('/content/drive')"
      ],
      "metadata": {
        "colab": {
          "base_uri": "https://localhost:8080/"
        },
        "id": "LGLeV2KFFI_7",
        "outputId": "241b8146-05ac-4e6d-dc48-8f3e9fb3ca2a"
      },
      "execution_count": 4,
      "outputs": [
        {
          "output_type": "stream",
          "name": "stdout",
          "text": [
            "Drive already mounted at /content/drive; to attempt to forcibly remount, call drive.mount(\"/content/drive\", force_remount=True).\n"
          ]
        }
      ]
    },
    {
      "cell_type": "code",
      "source": [
        "train = pd.read_csv(\"/content/drive/MyDrive/data_0313/train.csv\")\n",
        "test = pd.read_csv(\"/content/drive/MyDrive/data_0313/test.csv\")\n",
        "submission = pd.read_csv(\"/content/drive/MyDrive/data_0313/sample_submission.csv\")"
      ],
      "metadata": {
        "id": "sKg9nG_LhAG8"
      },
      "execution_count": 33,
      "outputs": []
    },
    {
      "cell_type": "markdown",
      "source": [
        "sessionID : 세션 ID\n",
        "\n",
        "userID : 사용자 ID\n",
        "\n",
        "TARGET : 세션에서 발생한 총 조회수\n",
        "\n",
        "browser : 사용된 브라우저\n",
        "\n",
        "OS : 사용된 기기의 운영체제\n",
        "\n",
        "device : 사용된 기기\n",
        "\n",
        "new : 첫 방문 여부 (0: 첫 방문 아님, 1: 첫 방문)\n",
        "\n",
        "quality : 세션의 질 (거래 성사를 기준으로 측정된 값, 범위: 1~100)\n",
        "\n",
        "duration : 총 세션 시간 (단위: 초)\n",
        "\n",
        "bounced : 이탈 여부 (0: 이탈하지 않음, 1: 이탈함)\n",
        "\n",
        "transaction : 세션 내에서 발생의 거래의 수\n",
        "\n",
        "transaction_revenue : 총 거래 수익\n",
        "\n",
        "continent : 세션이 발생한 대륙\n",
        "\n",
        "subcontinent : 세션이 발생한 하위 대륙\n",
        "\n",
        "country : 세션이 발생한 국가\n",
        "\n",
        "traffic_source : 트래픽이 발생한 소스\n",
        "\n",
        "traffic_medium : 트래픽 소스의 매체\n",
        "\n",
        "keyword : 트래픽 소스의 키워드, 일반적으로 traffic_medium이 organic, cpc인 경우에 설정\n",
        "\n",
        "referral_path : traffic_medium이 referral인 경우 설정되는 경로"
      ],
      "metadata": {
        "id": "iRaXchCzhtWe"
      }
    },
    {
      "cell_type": "code",
      "source": [
        "import pandas as pd\n",
        "import numpy as np\n",
        "import random\n",
        "import os\n",
        "from datetime import datetime\n",
        "\n",
        "from sklearn.preprocessing import LabelEncoder"
      ],
      "metadata": {
        "id": "wOEUO72jqpDT"
      },
      "execution_count": 6,
      "outputs": []
    },
    {
      "cell_type": "code",
      "source": [
        "def seed_everything(seed):\n",
        "    random.seed(seed)\n",
        "    os.environ['PYTHONHASHSEED'] = str(seed)\n",
        "    np.random.seed(seed)\n",
        "\n",
        "seed_everything(42) # Seed 고정"
      ],
      "metadata": {
        "id": "J7XDrP58qq_T"
      },
      "execution_count": 7,
      "outputs": []
    },
    {
      "cell_type": "markdown",
      "source": [
        "# 1. 전처리"
      ],
      "metadata": {
        "id": "UBSd6-zZ33Vp"
      }
    },
    {
      "cell_type": "markdown",
      "source": [
        "## Basecode 데이터 전처리"
      ],
      "metadata": {
        "id": "JoKrNgmuSj9G"
      }
    },
    {
      "cell_type": "code",
      "source": [
        "# train 데이터셋에서 결측값 확인\n",
        "train_missing_values = train.isnull().sum()\n",
        "print(\"Train 데이터셋의 결측값:\")\n",
        "print(train_missing_values[train_missing_values > 0])"
      ],
      "metadata": {
        "id": "bDSLY6omqsiT"
      },
      "execution_count": 6,
      "outputs": []
    },
    {
      "cell_type": "code",
      "source": [
        "train['keyword'].fillna(train['keyword'].mode()[0], inplace=True)\n",
        "train['referral_path'].fillna(train['referral_path'].mode()[0], inplace=True)"
      ],
      "metadata": {
        "id": "SIUTMffWqyBy"
      },
      "execution_count": 7,
      "outputs": []
    },
    {
      "cell_type": "code",
      "source": [
        "test['keyword'].fillna(train['keyword'].mode()[0], inplace=True) #train의 최빈값 사용\n",
        "test['referral_path'].fillna(train['referral_path'].mode()[0], inplace=True)"
      ],
      "metadata": {
        "id": "61kJll5Jquax"
      },
      "execution_count": 8,
      "outputs": []
    },
    {
      "cell_type": "code",
      "source": [
        "categorical_features = list(train.dtypes[train.dtypes == \"object\"].index)\n",
        "\n",
        "for i in categorical_features:\n",
        "    count = train[i].nunique()  # 고유값의 개수를 계산\n",
        "    print(f\"{i}: {count}\")"
      ],
      "metadata": {
        "id": "QvLUBsFgq0uk"
      },
      "execution_count": 9,
      "outputs": []
    },
    {
      "cell_type": "code",
      "source": [
        "train = train.drop(columns=['sessionID','userID'],axis=1)\n",
        "test = test.drop(columns=['sessionID','userID'],axis=1)"
      ],
      "metadata": {
        "id": "zkUa4y3mq20B"
      },
      "execution_count": 10,
      "outputs": []
    },
    {
      "cell_type": "code",
      "source": [
        "encoding_target = list(train.dtypes[train.dtypes == \"object\"].index)\n",
        "\n",
        "for i in encoding_target:\n",
        "    le = LabelEncoder()\n",
        "    le.fit(train[i])\n",
        "    train[i] = le.transform(train[i])\n",
        "\n",
        "    # test 데이터의 새로운 카테고리에 대해 le.classes_ 배열에 추가\n",
        "    # test 데이터에 대해서 직접적으로 fit을 수행할 경우 Data Leakage\n",
        "    for case in np.unique(test[i]):\n",
        "        if case not in le.classes_:\n",
        "            le.classes_ = np.append(le.classes_, case)\n",
        "\n",
        "    test[i] = le.transform(test[i])"
      ],
      "metadata": {
        "id": "HMewVLCPq4CK"
      },
      "execution_count": 11,
      "outputs": []
    },
    {
      "cell_type": "markdown",
      "source": [
        "## 새로운 전처리"
      ],
      "metadata": {
        "id": "v9IC5RCHSqz_"
      }
    },
    {
      "cell_type": "markdown",
      "source": [
        "### 데이터 통으로 날려버리기\n"
      ],
      "metadata": {
        "id": "vQeF8iRBtHZL"
      }
    },
    {
      "cell_type": "code",
      "source": [
        "train = pd.read_csv(\"/content/drive/MyDrive/data_0313/train.csv\")\n",
        "test = pd.read_csv(\"/content/drive/MyDrive/data_0313/test.csv\")\n",
        "submission = pd.read_csv(\"/content/drive/MyDrive/data_0313/sample_submission.csv\")"
      ],
      "metadata": {
        "id": "V6jONz02dFMI"
      },
      "execution_count": 37,
      "outputs": []
    },
    {
      "cell_type": "code",
      "source": [
        "train.drop(['keyword','referral_path','sessionID','userID'],axis=1,inplace=True)\n",
        "test.drop(['keyword','referral_path','sessionID','userID'],axis=1,inplace=True)"
      ],
      "metadata": {
        "id": "DtxXAAPTrTge"
      },
      "execution_count": 41,
      "outputs": []
    },
    {
      "cell_type": "code",
      "source": [
        "encoding_target = list(train.dtypes[train.dtypes == \"object\"].index)\n",
        "\n",
        "for i in encoding_target:\n",
        "    le = LabelEncoder()\n",
        "    le.fit(train[i])\n",
        "    train[i] = le.transform(train[i])\n",
        "\n",
        "    # test 데이터의 새로운 카테고리에 대해 le.classes_ 배열에 추가\n",
        "    # test 데이터에 대해서 직접적으로 fit을 수행할 경우 Data Leakage\n",
        "    for case in np.unique(test[i]):\n",
        "        if case not in le.classes_:\n",
        "            le.classes_ = np.append(le.classes_, case)\n",
        "\n",
        "    test[i] = le.transform(test[i])"
      ],
      "metadata": {
        "id": "yk_6VhPprRwm"
      },
      "execution_count": 42,
      "outputs": []
    },
    {
      "cell_type": "markdown",
      "source": [
        "### Null 을  \"None\"이라 부르기"
      ],
      "metadata": {
        "id": "Vwwq-OeetfPq"
      }
    },
    {
      "cell_type": "code",
      "source": [
        "train = pd.read_csv(\"/content/drive/MyDrive/data_0313/train.csv\")\n",
        "test = pd.read_csv(\"/content/drive/MyDrive/data_0313/test.csv\")\n",
        "submission = pd.read_csv(\"/content/drive/MyDrive/data_0313/sample_submission.csv\")"
      ],
      "metadata": {
        "id": "XWenNhV7t2fp"
      },
      "execution_count": 108,
      "outputs": []
    },
    {
      "cell_type": "code",
      "source": [
        "train.drop(['sessionID','userID'],axis=1,inplace=True)\n",
        "test.drop(['sessionID','userID'],axis=1,inplace=True)"
      ],
      "metadata": {
        "id": "Lc-R4jWPttgz"
      },
      "execution_count": 109,
      "outputs": []
    },
    {
      "cell_type": "code",
      "source": [
        "train['keyword'].fillna(\"None\",inplace=True)\n",
        "train['referral_path'].fillna(\"None\",inplace=True)\n",
        "test['keyword'].fillna(\"None\",inplace=True)\n",
        "test['referral_path'].fillna(\"None\",inplace=True)"
      ],
      "metadata": {
        "id": "kUkmDgcvv9RF"
      },
      "execution_count": 110,
      "outputs": []
    },
    {
      "cell_type": "code",
      "source": [
        "encoding_target = list(train.dtypes[train.dtypes == \"object\"].index)\n",
        "\n",
        "for i in encoding_target:\n",
        "    le = LabelEncoder()\n",
        "    le.fit(train[i])\n",
        "    train[i] = le.transform(train[i])\n",
        "\n",
        "    # test 데이터의 새로운 카테고리에 대해 le.classes_ 배열에 추가\n",
        "    # test 데이터에 대해서 직접적으로 fit을 수행할 경우 Data Leakage\n",
        "    for case in np.unique(test[i]):\n",
        "        if case not in le.classes_:\n",
        "            le.classes_ = np.append(le.classes_, case)\n",
        "\n",
        "    test[i] = le.transform(test[i])"
      ],
      "metadata": {
        "id": "WeAKa8xmy1z6"
      },
      "execution_count": 113,
      "outputs": []
    },
    {
      "cell_type": "code",
      "source": [
        "corr_train=train.corr()"
      ],
      "metadata": {
        "id": "kUaQCc2g2IFC"
      },
      "execution_count": 128,
      "outputs": []
    },
    {
      "cell_type": "code",
      "source": [
        "!pip install seaborn"
      ],
      "metadata": {
        "colab": {
          "base_uri": "https://localhost:8080/"
        },
        "id": "iVdXdvt52P32",
        "outputId": "d7e29a1f-798b-4ca1-ecde-8f229b491fe3"
      },
      "execution_count": 126,
      "outputs": [
        {
          "output_type": "stream",
          "name": "stdout",
          "text": [
            "Requirement already satisfied: seaborn in /usr/local/lib/python3.10/dist-packages (0.13.1)\n",
            "Requirement already satisfied: numpy!=1.24.0,>=1.20 in /usr/local/lib/python3.10/dist-packages (from seaborn) (1.25.2)\n",
            "Requirement already satisfied: pandas>=1.2 in /usr/local/lib/python3.10/dist-packages (from seaborn) (1.5.3)\n",
            "Requirement already satisfied: matplotlib!=3.6.1,>=3.4 in /usr/local/lib/python3.10/dist-packages (from seaborn) (3.7.1)\n",
            "Requirement already satisfied: contourpy>=1.0.1 in /usr/local/lib/python3.10/dist-packages (from matplotlib!=3.6.1,>=3.4->seaborn) (1.2.0)\n",
            "Requirement already satisfied: cycler>=0.10 in /usr/local/lib/python3.10/dist-packages (from matplotlib!=3.6.1,>=3.4->seaborn) (0.12.1)\n",
            "Requirement already satisfied: fonttools>=4.22.0 in /usr/local/lib/python3.10/dist-packages (from matplotlib!=3.6.1,>=3.4->seaborn) (4.49.0)\n",
            "Requirement already satisfied: kiwisolver>=1.0.1 in /usr/local/lib/python3.10/dist-packages (from matplotlib!=3.6.1,>=3.4->seaborn) (1.4.5)\n",
            "Requirement already satisfied: packaging>=20.0 in /usr/local/lib/python3.10/dist-packages (from matplotlib!=3.6.1,>=3.4->seaborn) (24.0)\n",
            "Requirement already satisfied: pillow>=6.2.0 in /usr/local/lib/python3.10/dist-packages (from matplotlib!=3.6.1,>=3.4->seaborn) (9.4.0)\n",
            "Requirement already satisfied: pyparsing>=2.3.1 in /usr/local/lib/python3.10/dist-packages (from matplotlib!=3.6.1,>=3.4->seaborn) (3.1.2)\n",
            "Requirement already satisfied: python-dateutil>=2.7 in /usr/local/lib/python3.10/dist-packages (from matplotlib!=3.6.1,>=3.4->seaborn) (2.8.2)\n",
            "Requirement already satisfied: pytz>=2020.1 in /usr/local/lib/python3.10/dist-packages (from pandas>=1.2->seaborn) (2023.4)\n",
            "Requirement already satisfied: six>=1.5 in /usr/local/lib/python3.10/dist-packages (from python-dateutil>=2.7->matplotlib!=3.6.1,>=3.4->seaborn) (1.16.0)\n"
          ]
        }
      ]
    },
    {
      "cell_type": "code",
      "source": [
        "import seaborn as sns\n",
        "import matplotlib.pyplot as plt\n",
        "\n",
        "sns.heatmap(corr_train,cmap='coolwarm')"
      ],
      "metadata": {
        "colab": {
          "base_uri": "https://localhost:8080/",
          "height": 582
        },
        "id": "wmfgtQ6e2VaF",
        "outputId": "ee3bdf59-ca8e-45e8-bc7a-581740a5d20f"
      },
      "execution_count": 130,
      "outputs": [
        {
          "output_type": "execute_result",
          "data": {
            "text/plain": [
              "<Axes: >"
            ]
          },
          "metadata": {},
          "execution_count": 130
        },
        {
          "output_type": "display_data",
          "data": {
            "text/plain": [
              "<Figure size 640x480 with 2 Axes>"
            ],
            "image/png": "[encoded data removed]"
          },
          "metadata": {}
        }
      ]
    },
    {
      "cell_type": "code",
      "source": [
        "plt.show()"
      ],
      "metadata": {
        "id": "lKWHJbxt2kaY"
      },
      "execution_count": 131,
      "outputs": []
    },
    {
      "cell_type": "markdown",
      "source": [
        "### 분류 모델 결측치 보간\n",
        "\n"
      ],
      "metadata": {
        "id": "LbtCEie_TbaN"
      }
    },
    {
      "cell_type": "code",
      "source": [
        "# train = train.drop(columns=['sessionID','userID'],axis=1)\n",
        "# test = test.drop(columns=['sessionID','userID'],axis=1)"
      ],
      "metadata": {
        "id": "KxQpFDC1Ymzs"
      },
      "execution_count": 11,
      "outputs": []
    },
    {
      "cell_type": "code",
      "source": [
        "# train.nunique()"
      ],
      "metadata": {
        "id": "1kybRIHclTy5"
      },
      "execution_count": null,
      "outputs": []
    },
    {
      "cell_type": "code",
      "source": [
        "# for_keyword_classify=train[train['keyword'].notnull()]"
      ],
      "metadata": {
        "id": "J2HcXPjuT_my"
      },
      "execution_count": 13,
      "outputs": []
    },
    {
      "cell_type": "code",
      "source": [
        "# for_keyword_classify.drop(['referral_path'],axis=1,inplace=True)"
      ],
      "metadata": {
        "id": "4TS9yO6hc-wf"
      },
      "execution_count": null,
      "outputs": []
    },
    {
      "cell_type": "code",
      "source": [
        "# !pip install catboost"
      ],
      "metadata": {
        "id": "mpWG5OU7d6E_"
      },
      "execution_count": null,
      "outputs": []
    },
    {
      "cell_type": "code",
      "source": [
        "# for_keyword_classify"
      ],
      "metadata": {
        "id": "deT4ERs6fliQ"
      },
      "execution_count": null,
      "outputs": []
    },
    {
      "cell_type": "code",
      "source": [
        "# encoding_target = list(X.dtypes[X.dtypes == \"object\"].index)\n",
        "\n",
        "# for i in encoding_target:\n",
        "    # le = LabelEncoder()\n",
        "    # le.fit(X[i])\n",
        "    # X[i] = le.transform(X[i])"
      ],
      "metadata": {
        "id": "mE6etoIDf-IR"
      },
      "execution_count": 26,
      "outputs": []
    },
    {
      "cell_type": "code",
      "source": [
        "# X.corr()"
      ],
      "metadata": {
        "id": "Yf4QFVXypKee"
      },
      "execution_count": null,
      "outputs": []
    },
    {
      "cell_type": "code",
      "source": [
        "# X"
      ],
      "metadata": {
        "id": "sBQXsDAEgS0f"
      },
      "execution_count": null,
      "outputs": []
    },
    {
      "cell_type": "code",
      "source": [
        "# from sklearn.linear_model import LogisticRegression\n",
        "# from sklearn.model_selection import StratifiedKFold\n",
        "# from sklearn.metrics import mean_squared_error\n",
        "# model = LogisticRegression()\n",
        "# skf = StratifiedKFold(n_splits=5)\n",
        "# y = for_keyword_classify['keyword']\n",
        "# X = for_keyword_classify.drop(['keyword'],axis=1)\n",
        "# X.drop(['TARGET'],axis=1)"
      ],
      "metadata": {
        "id": "YoDPCVKZfHYg"
      },
      "execution_count": null,
      "outputs": []
    },
    {
      "cell_type": "code",
      "source": [
        "# for train_idx, test_idx in skf.split(X,y):\n",
        "#     X_train, X_test = X.iloc[train_idx], X.iloc[test_idx]\n",
        "#     y_train, y_test = y.iloc[train_idx], y.iloc[test_idx]\n",
        "#     model.fit(X_train,y_train)\n",
        "#     y_pred = model.predict(X_test)"
      ],
      "metadata": {
        "id": "B0XDqZYgd9jQ"
      },
      "execution_count": null,
      "outputs": []
    },
    {
      "cell_type": "code",
      "source": [
        "# for i in range(len(train)):\n",
        "#     if pd.isnull(train.iloc[i]['keyword']):\n",
        "#         curr = model.predict(train.iloc[i].drop('keyword'))  # 'keyword' 열을 제외한 나머지 열에 대해 예측\n",
        "#         train.at[i, 'keyword'] = curr"
      ],
      "metadata": {
        "id": "GeJ8zY7Nh1nu"
      },
      "execution_count": null,
      "outputs": []
    },
    {
      "cell_type": "markdown",
      "source": [
        "# 2. 모델링"
      ],
      "metadata": {
        "id": "4g9ZH-1t3zsA"
      }
    },
    {
      "cell_type": "markdown",
      "source": [
        "## CatBoost Regression"
      ],
      "metadata": {
        "id": "L1986TWNJcWA"
      }
    },
    {
      "cell_type": "code",
      "source": [
        "!pip install catboost"
      ],
      "metadata": {
        "colab": {
          "base_uri": "https://localhost:8080/"
        },
        "id": "6giRfrbcjoH2",
        "outputId": "05ef0323-6fdd-488b-c393-cc349851fe2b"
      },
      "execution_count": 119,
      "outputs": [
        {
          "output_type": "stream",
          "name": "stdout",
          "text": [
            "Requirement already satisfied: catboost in /usr/local/lib/python3.10/dist-packages (1.2.3)\n",
            "Requirement already satisfied: graphviz in /usr/local/lib/python3.10/dist-packages (from catboost) (0.20.1)\n",
            "Requirement already satisfied: matplotlib in /usr/local/lib/python3.10/dist-packages (from catboost) (3.7.1)\n",
            "Requirement already satisfied: numpy>=1.16.0 in /usr/local/lib/python3.10/dist-packages (from catboost) (1.25.2)\n",
            "Requirement already satisfied: pandas>=0.24 in /usr/local/lib/python3.10/dist-packages (from catboost) (1.5.3)\n",
            "Requirement already satisfied: scipy in /usr/local/lib/python3.10/dist-packages (from catboost) (1.11.4)\n",
            "Requirement already satisfied: plotly in /usr/local/lib/python3.10/dist-packages (from catboost) (5.15.0)\n",
            "Requirement already satisfied: six in /usr/local/lib/python3.10/dist-packages (from catboost) (1.16.0)\n",
            "Requirement already satisfied: python-dateutil>=2.8.1 in /usr/local/lib/python3.10/dist-packages (from pandas>=0.24->catboost) (2.8.2)\n",
            "Requirement already satisfied: pytz>=2020.1 in /usr/local/lib/python3.10/dist-packages (from pandas>=0.24->catboost) (2023.4)\n",
            "Requirement already satisfied: contourpy>=1.0.1 in /usr/local/lib/python3.10/dist-packages (from matplotlib->catboost) (1.2.0)\n",
            "Requirement already satisfied: cycler>=0.10 in /usr/local/lib/python3.10/dist-packages (from matplotlib->catboost) (0.12.1)\n",
            "Requirement already satisfied: fonttools>=4.22.0 in /usr/local/lib/python3.10/dist-packages (from matplotlib->catboost) (4.49.0)\n",
            "Requirement already satisfied: kiwisolver>=1.0.1 in /usr/local/lib/python3.10/dist-packages (from matplotlib->catboost) (1.4.5)\n",
            "Requirement already satisfied: packaging>=20.0 in /usr/local/lib/python3.10/dist-packages (from matplotlib->catboost) (24.0)\n",
            "Requirement already satisfied: pillow>=6.2.0 in /usr/local/lib/python3.10/dist-packages (from matplotlib->catboost) (9.4.0)\n",
            "Requirement already satisfied: pyparsing>=2.3.1 in /usr/local/lib/python3.10/dist-packages (from matplotlib->catboost) (3.1.2)\n",
            "Requirement already satisfied: tenacity>=6.2.0 in /usr/local/lib/python3.10/dist-packages (from plotly->catboost) (8.2.3)\n"
          ]
        }
      ]
    },
    {
      "cell_type": "code",
      "source": [
        "from catboost import CatBoostRegressor\n",
        "from sklearn.model_selection import StratifiedKFold\n",
        "from sklearn.metrics import mean_squared_error\n",
        "model = CatBoostRegressor(iterations=100)\n",
        "skf = StratifiedKFold(n_splits=5)\n",
        "X = train.drop(['TARGET'],axis=1)\n",
        "y = train['TARGET']\n",
        "\n",
        "for train_idx, test_idx in skf.split(X,y):\n",
        "    X_train, X_test = X.iloc[train_idx], X.iloc[test_idx]\n",
        "    y_train, y_test = y.iloc[train_idx], y.iloc[test_idx]\n",
        "    model.fit(X_train,y_train)\n",
        "    y_pred = model.predict(X_test)\n",
        "    mse = mean_squared_error(y_test,y_pred)\n",
        "    rmse = np.sqrt(mse)\n",
        "    print(mse)\n",
        "answer = model.predict(test)"
      ],
      "metadata": {
        "id": "Y5WhjdKrj0DZ",
        "colab": {
          "base_uri": "https://localhost:8080/"
        },
        "outputId": "bbc8cb92-77af-4ed3-bece-50a69d055584"
      },
      "execution_count": 120,
      "outputs": [
        {
          "output_type": "stream",
          "name": "stderr",
          "text": [
            "/usr/local/lib/python3.10/dist-packages/sklearn/model_selection/_split.py:700: UserWarning: The least populated class in y has only 1 members, which is less than n_splits=5.\n",
            "  warnings.warn(\n"
          ]
        },
        {
          "output_type": "stream",
          "name": "stdout",
          "text": [
            "Learning rate set to 0.5\n",
            "0:\tlearn: 4.0794917\ttotal: 133ms\tremaining: 13.1s\n",
            "1:\tlearn: 3.5031725\ttotal: 204ms\tremaining: 10s\n",
            "2:\tlearn: 3.2077364\ttotal: 290ms\tremaining: 9.38s\n",
            "3:\tlearn: 3.0987866\ttotal: 361ms\tremaining: 8.67s\n",
            "4:\tlearn: 3.0314488\ttotal: 460ms\tremaining: 8.73s\n",
            "5:\tlearn: 2.9926115\ttotal: 554ms\tremaining: 8.69s\n",
            "6:\tlearn: 2.9676541\ttotal: 644ms\tremaining: 8.55s\n",
            "7:\tlearn: 2.9552113\ttotal: 742ms\tremaining: 8.54s\n",
            "8:\tlearn: 2.9498040\ttotal: 806ms\tremaining: 8.15s\n",
            "9:\tlearn: 2.9125028\ttotal: 901ms\tremaining: 8.11s\n",
            "10:\tlearn: 2.8985935\ttotal: 1.01s\tremaining: 8.15s\n",
            "11:\tlearn: 2.8733633\ttotal: 1.12s\tremaining: 8.2s\n",
            "12:\tlearn: 2.8513031\ttotal: 1.19s\tremaining: 7.93s\n",
            "13:\tlearn: 2.8275879\ttotal: 1.27s\tremaining: 7.79s\n",
            "14:\tlearn: 2.8147705\ttotal: 1.38s\tremaining: 7.84s\n",
            "15:\tlearn: 2.8086164\ttotal: 1.5s\tremaining: 7.9s\n",
            "16:\tlearn: 2.7978411\ttotal: 1.57s\tremaining: 7.68s\n",
            "17:\tlearn: 2.7912188\ttotal: 1.64s\tremaining: 7.49s\n",
            "18:\tlearn: 2.7818204\ttotal: 1.78s\tremaining: 7.58s\n",
            "19:\tlearn: 2.7695349\ttotal: 1.84s\tremaining: 7.38s\n",
            "20:\tlearn: 2.7633950\ttotal: 1.9s\tremaining: 7.16s\n",
            "21:\tlearn: 2.7498914\ttotal: 2s\tremaining: 7.08s\n",
            "22:\tlearn: 2.7220958\ttotal: 2.1s\tremaining: 7.05s\n",
            "23:\tlearn: 2.7168759\ttotal: 2.15s\tremaining: 6.81s\n",
            "24:\tlearn: 2.7039218\ttotal: 2.21s\tremaining: 6.64s\n",
            "25:\tlearn: 2.6956398\ttotal: 2.28s\tremaining: 6.48s\n",
            "26:\tlearn: 2.6810986\ttotal: 2.36s\tremaining: 6.37s\n",
            "27:\tlearn: 2.6750097\ttotal: 2.44s\tremaining: 6.27s\n",
            "28:\tlearn: 2.6711725\ttotal: 2.54s\tremaining: 6.21s\n",
            "29:\tlearn: 2.6587900\ttotal: 2.63s\tremaining: 6.14s\n",
            "30:\tlearn: 2.6370266\ttotal: 2.73s\tremaining: 6.07s\n",
            "31:\tlearn: 2.6219235\ttotal: 2.79s\tremaining: 5.94s\n",
            "32:\tlearn: 2.6185132\ttotal: 2.87s\tremaining: 5.82s\n",
            "33:\tlearn: 2.6106722\ttotal: 2.95s\tremaining: 5.73s\n",
            "34:\tlearn: 2.6034212\ttotal: 3.06s\tremaining: 5.68s\n",
            "35:\tlearn: 2.5938006\ttotal: 3.16s\tremaining: 5.61s\n",
            "36:\tlearn: 2.5822013\ttotal: 3.21s\tremaining: 5.46s\n",
            "37:\tlearn: 2.5762345\ttotal: 3.32s\tremaining: 5.42s\n",
            "38:\tlearn: 2.5724743\ttotal: 3.44s\tremaining: 5.38s\n",
            "39:\tlearn: 2.5719017\ttotal: 3.57s\tremaining: 5.36s\n",
            "40:\tlearn: 2.5630215\ttotal: 3.7s\tremaining: 5.32s\n",
            "41:\tlearn: 2.5543553\ttotal: 3.85s\tremaining: 5.31s\n",
            "42:\tlearn: 2.5458222\ttotal: 3.99s\tremaining: 5.28s\n",
            "43:\tlearn: 2.5357397\ttotal: 4.14s\tremaining: 5.26s\n",
            "44:\tlearn: 2.5337364\ttotal: 4.24s\tremaining: 5.18s\n",
            "45:\tlearn: 2.5276324\ttotal: 4.41s\tremaining: 5.18s\n",
            "46:\tlearn: 2.5224657\ttotal: 4.55s\tremaining: 5.13s\n",
            "47:\tlearn: 2.5157204\ttotal: 4.64s\tremaining: 5.03s\n",
            "48:\tlearn: 2.5113087\ttotal: 4.75s\tremaining: 4.95s\n",
            "49:\tlearn: 2.5032755\ttotal: 4.86s\tremaining: 4.86s\n",
            "50:\tlearn: 2.4989105\ttotal: 4.99s\tremaining: 4.79s\n",
            "51:\tlearn: 2.4848850\ttotal: 5.06s\tremaining: 4.67s\n",
            "52:\tlearn: 2.4845326\ttotal: 5.11s\tremaining: 4.53s\n",
            "53:\tlearn: 2.4772605\ttotal: 5.22s\tremaining: 4.45s\n",
            "54:\tlearn: 2.4737577\ttotal: 5.31s\tremaining: 4.35s\n",
            "55:\tlearn: 2.4629260\ttotal: 5.39s\tremaining: 4.23s\n",
            "56:\tlearn: 2.4614785\ttotal: 5.46s\tremaining: 4.12s\n",
            "57:\tlearn: 2.4550790\ttotal: 5.54s\tremaining: 4.01s\n",
            "58:\tlearn: 2.4501781\ttotal: 5.67s\tremaining: 3.94s\n",
            "59:\tlearn: 2.4499108\ttotal: 5.74s\tremaining: 3.83s\n",
            "60:\tlearn: 2.4389805\ttotal: 5.85s\tremaining: 3.74s\n",
            "61:\tlearn: 2.4351766\ttotal: 6.02s\tremaining: 3.69s\n",
            "62:\tlearn: 2.4320750\ttotal: 6.18s\tremaining: 3.63s\n",
            "63:\tlearn: 2.4284985\ttotal: 6.31s\tremaining: 3.55s\n",
            "64:\tlearn: 2.4266540\ttotal: 6.37s\tremaining: 3.43s\n",
            "65:\tlearn: 2.4238929\ttotal: 6.44s\tremaining: 3.32s\n",
            "66:\tlearn: 2.4234957\ttotal: 6.5s\tremaining: 3.2s\n",
            "67:\tlearn: 2.4225543\ttotal: 6.62s\tremaining: 3.12s\n",
            "68:\tlearn: 2.4195839\ttotal: 6.76s\tremaining: 3.04s\n",
            "69:\tlearn: 2.4155426\ttotal: 6.9s\tremaining: 2.96s\n",
            "70:\tlearn: 2.4086823\ttotal: 6.97s\tremaining: 2.85s\n",
            "71:\tlearn: 2.4051602\ttotal: 7.06s\tremaining: 2.75s\n",
            "72:\tlearn: 2.3965244\ttotal: 7.17s\tremaining: 2.65s\n",
            "73:\tlearn: 2.3931506\ttotal: 7.28s\tremaining: 2.56s\n",
            "74:\tlearn: 2.3881705\ttotal: 7.36s\tremaining: 2.45s\n",
            "75:\tlearn: 2.3856830\ttotal: 7.43s\tremaining: 2.35s\n",
            "76:\tlearn: 2.3807016\ttotal: 7.56s\tremaining: 2.26s\n",
            "77:\tlearn: 2.3778815\ttotal: 7.63s\tremaining: 2.15s\n",
            "78:\tlearn: 2.3745367\ttotal: 7.69s\tremaining: 2.04s\n",
            "79:\tlearn: 2.3724838\ttotal: 7.79s\tremaining: 1.95s\n",
            "80:\tlearn: 2.3677807\ttotal: 7.9s\tremaining: 1.85s\n",
            "81:\tlearn: 2.3650537\ttotal: 7.98s\tremaining: 1.75s\n",
            "82:\tlearn: 2.3607990\ttotal: 8.05s\tremaining: 1.65s\n",
            "83:\tlearn: 2.3589635\ttotal: 8.1s\tremaining: 1.54s\n",
            "84:\tlearn: 2.3585904\ttotal: 8.21s\tremaining: 1.45s\n",
            "85:\tlearn: 2.3560461\ttotal: 8.29s\tremaining: 1.35s\n",
            "86:\tlearn: 2.3554726\ttotal: 8.38s\tremaining: 1.25s\n",
            "87:\tlearn: 2.3547323\ttotal: 8.44s\tremaining: 1.15s\n",
            "88:\tlearn: 2.3520386\ttotal: 8.5s\tremaining: 1.05s\n",
            "89:\tlearn: 2.3498899\ttotal: 8.57s\tremaining: 953ms\n",
            "90:\tlearn: 2.3415772\ttotal: 8.64s\tremaining: 854ms\n",
            "91:\tlearn: 2.3406776\ttotal: 8.69s\tremaining: 756ms\n",
            "92:\tlearn: 2.3383201\ttotal: 8.78s\tremaining: 661ms\n",
            "93:\tlearn: 2.3355733\ttotal: 8.87s\tremaining: 566ms\n",
            "94:\tlearn: 2.3345883\ttotal: 8.94s\tremaining: 470ms\n",
            "95:\tlearn: 2.3301513\ttotal: 9.03s\tremaining: 376ms\n",
            "96:\tlearn: 2.3259066\ttotal: 9.13s\tremaining: 282ms\n",
            "97:\tlearn: 2.3236904\ttotal: 9.21s\tremaining: 188ms\n",
            "98:\tlearn: 2.3224789\ttotal: 9.28s\tremaining: 93.8ms\n",
            "99:\tlearn: 2.3176778\ttotal: 9.33s\tremaining: 0us\n",
            "7.12544781331477\n",
            "Learning rate set to 0.5\n",
            "0:\tlearn: 4.0602747\ttotal: 108ms\tremaining: 10.7s\n",
            "1:\tlearn: 3.4704418\ttotal: 188ms\tremaining: 9.21s\n",
            "2:\tlearn: 3.1875898\ttotal: 235ms\tremaining: 7.59s\n",
            "3:\tlearn: 3.0799822\ttotal: 320ms\tremaining: 7.68s\n",
            "4:\tlearn: 3.0163008\ttotal: 420ms\tremaining: 7.98s\n",
            "5:\tlearn: 2.9674505\ttotal: 475ms\tremaining: 7.44s\n",
            "6:\tlearn: 2.9441649\ttotal: 515ms\tremaining: 6.85s\n",
            "7:\tlearn: 2.9128036\ttotal: 577ms\tremaining: 6.64s\n",
            "8:\tlearn: 2.8993063\ttotal: 671ms\tremaining: 6.78s\n",
            "9:\tlearn: 2.8687214\ttotal: 737ms\tremaining: 6.63s\n",
            "10:\tlearn: 2.8509937\ttotal: 815ms\tremaining: 6.59s\n",
            "11:\tlearn: 2.8386022\ttotal: 884ms\tremaining: 6.49s\n",
            "12:\tlearn: 2.8188892\ttotal: 954ms\tremaining: 6.39s\n",
            "13:\tlearn: 2.8012122\ttotal: 1.03s\tremaining: 6.32s\n",
            "14:\tlearn: 2.7850146\ttotal: 1.12s\tremaining: 6.37s\n",
            "15:\tlearn: 2.7709316\ttotal: 1.23s\tremaining: 6.48s\n",
            "16:\tlearn: 2.7540672\ttotal: 1.32s\tremaining: 6.43s\n",
            "17:\tlearn: 2.7478033\ttotal: 1.39s\tremaining: 6.32s\n",
            "18:\tlearn: 2.7184160\ttotal: 1.46s\tremaining: 6.21s\n",
            "19:\tlearn: 2.7097484\ttotal: 1.54s\tremaining: 6.15s\n",
            "20:\tlearn: 2.7084640\ttotal: 1.6s\tremaining: 6.03s\n",
            "21:\tlearn: 2.7005885\ttotal: 1.67s\tremaining: 5.94s\n",
            "22:\tlearn: 2.6866748\ttotal: 1.74s\tremaining: 5.84s\n",
            "23:\tlearn: 2.6787479\ttotal: 1.82s\tremaining: 5.76s\n",
            "24:\tlearn: 2.6716332\ttotal: 1.89s\tremaining: 5.66s\n",
            "25:\tlearn: 2.6616313\ttotal: 1.96s\tremaining: 5.57s\n",
            "26:\tlearn: 2.6602779\ttotal: 2.04s\tremaining: 5.52s\n",
            "27:\tlearn: 2.6529499\ttotal: 2.11s\tremaining: 5.42s\n",
            "28:\tlearn: 2.6386463\ttotal: 2.19s\tremaining: 5.36s\n",
            "29:\tlearn: 2.6311442\ttotal: 2.3s\tremaining: 5.36s\n",
            "30:\tlearn: 2.6220826\ttotal: 2.38s\tremaining: 5.3s\n",
            "31:\tlearn: 2.6166742\ttotal: 2.45s\tremaining: 5.2s\n",
            "32:\tlearn: 2.6120927\ttotal: 2.54s\tremaining: 5.16s\n",
            "33:\tlearn: 2.6013961\ttotal: 2.59s\tremaining: 5.03s\n",
            "34:\tlearn: 2.6007312\ttotal: 2.65s\tremaining: 4.92s\n",
            "35:\tlearn: 2.5952779\ttotal: 2.7s\tremaining: 4.8s\n",
            "36:\tlearn: 2.5923475\ttotal: 2.75s\tremaining: 4.67s\n",
            "37:\tlearn: 2.5834698\ttotal: 2.85s\tremaining: 4.64s\n",
            "38:\tlearn: 2.5830829\ttotal: 2.92s\tremaining: 4.57s\n",
            "39:\tlearn: 2.5754017\ttotal: 2.98s\tremaining: 4.47s\n",
            "40:\tlearn: 2.5694645\ttotal: 3.06s\tremaining: 4.41s\n",
            "41:\tlearn: 2.5635486\ttotal: 3.14s\tremaining: 4.33s\n",
            "42:\tlearn: 2.5577541\ttotal: 3.21s\tremaining: 4.26s\n",
            "43:\tlearn: 2.5424044\ttotal: 3.29s\tremaining: 4.18s\n",
            "44:\tlearn: 2.5373088\ttotal: 3.36s\tremaining: 4.1s\n",
            "45:\tlearn: 2.5341194\ttotal: 3.45s\tremaining: 4.05s\n",
            "46:\tlearn: 2.5149149\ttotal: 3.52s\tremaining: 3.98s\n",
            "47:\tlearn: 2.5137567\ttotal: 3.58s\tremaining: 3.88s\n",
            "48:\tlearn: 2.5134019\ttotal: 3.67s\tremaining: 3.82s\n",
            "49:\tlearn: 2.5075198\ttotal: 3.73s\tremaining: 3.73s\n",
            "50:\tlearn: 2.4939761\ttotal: 3.81s\tremaining: 3.67s\n",
            "51:\tlearn: 2.4912120\ttotal: 3.89s\tremaining: 3.59s\n",
            "52:\tlearn: 2.4850582\ttotal: 3.96s\tremaining: 3.51s\n",
            "53:\tlearn: 2.4803988\ttotal: 4.03s\tremaining: 3.43s\n",
            "54:\tlearn: 2.4764397\ttotal: 4.11s\tremaining: 3.36s\n",
            "55:\tlearn: 2.4762043\ttotal: 4.17s\tremaining: 3.28s\n",
            "56:\tlearn: 2.4759011\ttotal: 4.26s\tremaining: 3.22s\n",
            "57:\tlearn: 2.4731628\ttotal: 4.36s\tremaining: 3.15s\n",
            "58:\tlearn: 2.4631313\ttotal: 4.42s\tremaining: 3.07s\n",
            "59:\tlearn: 2.4627412\ttotal: 4.48s\tremaining: 2.98s\n",
            "60:\tlearn: 2.4595637\ttotal: 4.57s\tremaining: 2.92s\n",
            "61:\tlearn: 2.4565132\ttotal: 4.63s\tremaining: 2.84s\n",
            "62:\tlearn: 2.4528656\ttotal: 4.69s\tremaining: 2.76s\n",
            "63:\tlearn: 2.4476304\ttotal: 4.78s\tremaining: 2.69s\n",
            "64:\tlearn: 2.4458821\ttotal: 4.83s\tremaining: 2.6s\n",
            "65:\tlearn: 2.4406053\ttotal: 4.89s\tremaining: 2.52s\n",
            "66:\tlearn: 2.4357320\ttotal: 4.99s\tremaining: 2.46s\n",
            "67:\tlearn: 2.4260072\ttotal: 5.06s\tremaining: 2.38s\n",
            "68:\tlearn: 2.4232016\ttotal: 5.14s\tremaining: 2.31s\n",
            "69:\tlearn: 2.4215247\ttotal: 5.22s\tremaining: 2.24s\n",
            "70:\tlearn: 2.4190889\ttotal: 5.3s\tremaining: 2.17s\n",
            "71:\tlearn: 2.4168324\ttotal: 5.36s\tremaining: 2.08s\n",
            "72:\tlearn: 2.4144356\ttotal: 5.45s\tremaining: 2.01s\n",
            "73:\tlearn: 2.4116489\ttotal: 5.52s\tremaining: 1.94s\n",
            "74:\tlearn: 2.4077803\ttotal: 5.63s\tremaining: 1.88s\n",
            "75:\tlearn: 2.3994704\ttotal: 5.71s\tremaining: 1.8s\n",
            "76:\tlearn: 2.3971363\ttotal: 5.77s\tremaining: 1.72s\n",
            "77:\tlearn: 2.3904974\ttotal: 5.82s\tremaining: 1.64s\n",
            "78:\tlearn: 2.3867864\ttotal: 5.88s\tremaining: 1.56s\n",
            "79:\tlearn: 2.3862866\ttotal: 5.95s\tremaining: 1.49s\n",
            "80:\tlearn: 2.3843630\ttotal: 6.01s\tremaining: 1.41s\n",
            "81:\tlearn: 2.3764709\ttotal: 6.09s\tremaining: 1.34s\n",
            "82:\tlearn: 2.3741999\ttotal: 6.17s\tremaining: 1.26s\n",
            "83:\tlearn: 2.3724335\ttotal: 6.24s\tremaining: 1.19s\n",
            "84:\tlearn: 2.3681353\ttotal: 6.4s\tremaining: 1.13s\n",
            "85:\tlearn: 2.3658310\ttotal: 6.52s\tremaining: 1.06s\n",
            "86:\tlearn: 2.3614765\ttotal: 6.59s\tremaining: 985ms\n",
            "87:\tlearn: 2.3590126\ttotal: 6.67s\tremaining: 909ms\n",
            "88:\tlearn: 2.3557561\ttotal: 6.72s\tremaining: 830ms\n",
            "89:\tlearn: 2.3494755\ttotal: 6.84s\tremaining: 760ms\n",
            "90:\tlearn: 2.3424890\ttotal: 6.92s\tremaining: 684ms\n",
            "91:\tlearn: 2.3413904\ttotal: 6.98s\tremaining: 607ms\n",
            "92:\tlearn: 2.3393859\ttotal: 7.07s\tremaining: 532ms\n",
            "93:\tlearn: 2.3384687\ttotal: 7.14s\tremaining: 456ms\n",
            "94:\tlearn: 2.3363477\ttotal: 7.22s\tremaining: 380ms\n",
            "95:\tlearn: 2.3342858\ttotal: 7.3s\tremaining: 304ms\n",
            "96:\tlearn: 2.3317315\ttotal: 7.37s\tremaining: 228ms\n",
            "97:\tlearn: 2.3292515\ttotal: 7.42s\tremaining: 151ms\n",
            "98:\tlearn: 2.3274625\ttotal: 7.49s\tremaining: 75.7ms\n",
            "99:\tlearn: 2.3232988\ttotal: 7.58s\tremaining: 0us\n",
            "7.67142377032116\n",
            "Learning rate set to 0.5\n",
            "0:\tlearn: 3.9355856\ttotal: 125ms\tremaining: 12.4s\n",
            "1:\tlearn: 3.3540566\ttotal: 271ms\tremaining: 13.3s\n",
            "2:\tlearn: 3.0937685\ttotal: 397ms\tremaining: 12.8s\n",
            "3:\tlearn: 2.9735312\ttotal: 540ms\tremaining: 13s\n",
            "4:\tlearn: 2.9060019\ttotal: 676ms\tremaining: 12.8s\n",
            "5:\tlearn: 2.8568116\ttotal: 807ms\tremaining: 12.6s\n",
            "6:\tlearn: 2.8188021\ttotal: 936ms\tremaining: 12.4s\n",
            "7:\tlearn: 2.7851426\ttotal: 1.01s\tremaining: 11.6s\n",
            "8:\tlearn: 2.7656443\ttotal: 1.12s\tremaining: 11.3s\n",
            "9:\tlearn: 2.7438495\ttotal: 1.23s\tremaining: 11.1s\n",
            "10:\tlearn: 2.7154762\ttotal: 1.36s\tremaining: 11s\n",
            "11:\tlearn: 2.7085213\ttotal: 1.49s\tremaining: 10.9s\n",
            "12:\tlearn: 2.6917346\ttotal: 1.63s\tremaining: 10.9s\n",
            "13:\tlearn: 2.6747901\ttotal: 1.77s\tremaining: 10.9s\n",
            "14:\tlearn: 2.6652057\ttotal: 1.87s\tremaining: 10.6s\n",
            "15:\tlearn: 2.6601402\ttotal: 1.96s\tremaining: 10.3s\n",
            "16:\tlearn: 2.6536742\ttotal: 2.11s\tremaining: 10.3s\n",
            "17:\tlearn: 2.6436178\ttotal: 2.21s\tremaining: 10.1s\n",
            "18:\tlearn: 2.6344944\ttotal: 2.33s\tremaining: 9.92s\n",
            "19:\tlearn: 2.6279959\ttotal: 2.46s\tremaining: 9.83s\n",
            "20:\tlearn: 2.6241016\ttotal: 2.61s\tremaining: 9.8s\n",
            "21:\tlearn: 2.6208488\ttotal: 2.71s\tremaining: 9.59s\n",
            "22:\tlearn: 2.6086837\ttotal: 2.8s\tremaining: 9.38s\n",
            "23:\tlearn: 2.6035885\ttotal: 2.91s\tremaining: 9.21s\n",
            "24:\tlearn: 2.5958244\ttotal: 3.02s\tremaining: 9.06s\n",
            "25:\tlearn: 2.5804183\ttotal: 3.12s\tremaining: 8.89s\n",
            "26:\tlearn: 2.5780318\ttotal: 3.19s\tremaining: 8.63s\n",
            "27:\tlearn: 2.5661173\ttotal: 3.3s\tremaining: 8.48s\n",
            "28:\tlearn: 2.5552667\ttotal: 3.39s\tremaining: 8.3s\n",
            "29:\tlearn: 2.5479646\ttotal: 3.49s\tremaining: 8.15s\n",
            "30:\tlearn: 2.5440910\ttotal: 3.58s\tremaining: 7.96s\n",
            "31:\tlearn: 2.5370237\ttotal: 3.69s\tremaining: 7.84s\n",
            "32:\tlearn: 2.5284894\ttotal: 3.83s\tremaining: 7.77s\n",
            "33:\tlearn: 2.5243281\ttotal: 3.94s\tremaining: 7.64s\n",
            "34:\tlearn: 2.5169954\ttotal: 4.03s\tremaining: 7.48s\n",
            "35:\tlearn: 2.5077365\ttotal: 4.14s\tremaining: 7.37s\n",
            "36:\tlearn: 2.5017853\ttotal: 4.21s\tremaining: 7.17s\n",
            "37:\tlearn: 2.4880074\ttotal: 4.28s\tremaining: 6.99s\n",
            "38:\tlearn: 2.4828580\ttotal: 4.36s\tremaining: 6.82s\n",
            "39:\tlearn: 2.4816144\ttotal: 4.43s\tremaining: 6.64s\n",
            "40:\tlearn: 2.4783653\ttotal: 4.5s\tremaining: 6.47s\n",
            "41:\tlearn: 2.4744188\ttotal: 4.59s\tremaining: 6.34s\n",
            "42:\tlearn: 2.4699186\ttotal: 4.65s\tremaining: 6.17s\n",
            "43:\tlearn: 2.4651793\ttotal: 4.73s\tremaining: 6.02s\n",
            "44:\tlearn: 2.4609731\ttotal: 4.8s\tremaining: 5.87s\n",
            "45:\tlearn: 2.4577633\ttotal: 4.9s\tremaining: 5.75s\n",
            "46:\tlearn: 2.4543226\ttotal: 4.97s\tremaining: 5.61s\n",
            "47:\tlearn: 2.4520107\ttotal: 5.07s\tremaining: 5.49s\n",
            "48:\tlearn: 2.4494342\ttotal: 5.15s\tremaining: 5.36s\n",
            "49:\tlearn: 2.4450832\ttotal: 5.22s\tremaining: 5.22s\n",
            "50:\tlearn: 2.4417252\ttotal: 5.29s\tremaining: 5.08s\n",
            "51:\tlearn: 2.4404433\ttotal: 5.35s\tremaining: 4.93s\n",
            "52:\tlearn: 2.4361553\ttotal: 5.44s\tremaining: 4.82s\n",
            "53:\tlearn: 2.4318246\ttotal: 5.52s\tremaining: 4.7s\n",
            "54:\tlearn: 2.4261035\ttotal: 5.59s\tremaining: 4.57s\n",
            "55:\tlearn: 2.4191485\ttotal: 5.65s\tremaining: 4.44s\n",
            "56:\tlearn: 2.4150439\ttotal: 5.73s\tremaining: 4.32s\n",
            "57:\tlearn: 2.4096355\ttotal: 5.79s\tremaining: 4.2s\n",
            "58:\tlearn: 2.3984713\ttotal: 5.86s\tremaining: 4.07s\n",
            "59:\tlearn: 2.3950921\ttotal: 5.95s\tremaining: 3.96s\n",
            "60:\tlearn: 2.3911848\ttotal: 6.02s\tremaining: 3.85s\n",
            "61:\tlearn: 2.3891238\ttotal: 6.08s\tremaining: 3.73s\n",
            "62:\tlearn: 2.3868606\ttotal: 6.14s\tremaining: 3.61s\n",
            "63:\tlearn: 2.3855101\ttotal: 6.23s\tremaining: 3.5s\n",
            "64:\tlearn: 2.3832198\ttotal: 6.33s\tremaining: 3.41s\n",
            "65:\tlearn: 2.3799467\ttotal: 6.39s\tremaining: 3.29s\n",
            "66:\tlearn: 2.3738834\ttotal: 6.52s\tremaining: 3.21s\n",
            "67:\tlearn: 2.3711855\ttotal: 6.58s\tremaining: 3.09s\n",
            "68:\tlearn: 2.3687904\ttotal: 6.63s\tremaining: 2.98s\n",
            "69:\tlearn: 2.3650694\ttotal: 6.71s\tremaining: 2.88s\n",
            "70:\tlearn: 2.3614697\ttotal: 6.78s\tremaining: 2.77s\n",
            "71:\tlearn: 2.3559049\ttotal: 6.85s\tremaining: 2.66s\n",
            "72:\tlearn: 2.3534855\ttotal: 6.92s\tremaining: 2.56s\n",
            "73:\tlearn: 2.3510685\ttotal: 6.97s\tremaining: 2.45s\n",
            "74:\tlearn: 2.3489150\ttotal: 7.06s\tremaining: 2.35s\n",
            "75:\tlearn: 2.3457156\ttotal: 7.1s\tremaining: 2.24s\n",
            "76:\tlearn: 2.3434669\ttotal: 7.17s\tremaining: 2.14s\n",
            "77:\tlearn: 2.3415290\ttotal: 7.22s\tremaining: 2.04s\n",
            "78:\tlearn: 2.3405509\ttotal: 7.29s\tremaining: 1.94s\n",
            "79:\tlearn: 2.3391378\ttotal: 7.35s\tremaining: 1.84s\n",
            "80:\tlearn: 2.3377735\ttotal: 7.42s\tremaining: 1.74s\n",
            "81:\tlearn: 2.3355437\ttotal: 7.5s\tremaining: 1.65s\n",
            "82:\tlearn: 2.3330212\ttotal: 7.54s\tremaining: 1.54s\n",
            "83:\tlearn: 2.3306221\ttotal: 7.59s\tremaining: 1.45s\n",
            "84:\tlearn: 2.3246560\ttotal: 7.67s\tremaining: 1.35s\n",
            "85:\tlearn: 2.3223372\ttotal: 7.72s\tremaining: 1.26s\n",
            "86:\tlearn: 2.3205394\ttotal: 7.75s\tremaining: 1.16s\n",
            "87:\tlearn: 2.3195106\ttotal: 7.79s\tremaining: 1.06s\n",
            "88:\tlearn: 2.3177354\ttotal: 7.85s\tremaining: 970ms\n",
            "89:\tlearn: 2.3167282\ttotal: 7.92s\tremaining: 880ms\n",
            "90:\tlearn: 2.3150319\ttotal: 8.02s\tremaining: 793ms\n",
            "91:\tlearn: 2.3134580\ttotal: 8.09s\tremaining: 704ms\n",
            "92:\tlearn: 2.3097691\ttotal: 8.16s\tremaining: 614ms\n",
            "93:\tlearn: 2.3093626\ttotal: 8.21s\tremaining: 524ms\n",
            "94:\tlearn: 2.3078504\ttotal: 8.28s\tremaining: 436ms\n",
            "95:\tlearn: 2.3068393\ttotal: 8.35s\tremaining: 348ms\n",
            "96:\tlearn: 2.3049532\ttotal: 8.45s\tremaining: 261ms\n",
            "97:\tlearn: 2.3031313\ttotal: 8.57s\tremaining: 175ms\n",
            "98:\tlearn: 2.3021772\ttotal: 8.62s\tremaining: 87.1ms\n",
            "99:\tlearn: 2.2989620\ttotal: 8.71s\tremaining: 0us\n",
            "9.829047801184249\n",
            "Learning rate set to 0.5\n",
            "0:\tlearn: 4.0259959\ttotal: 64.6ms\tremaining: 6.39s\n",
            "1:\tlearn: 3.4539645\ttotal: 137ms\tremaining: 6.72s\n",
            "2:\tlearn: 3.1854784\ttotal: 213ms\tremaining: 6.89s\n",
            "3:\tlearn: 3.0806422\ttotal: 304ms\tremaining: 7.28s\n",
            "4:\tlearn: 3.0176417\ttotal: 343ms\tremaining: 6.52s\n",
            "5:\tlearn: 2.9570033\ttotal: 404ms\tremaining: 6.32s\n",
            "6:\tlearn: 2.9172674\ttotal: 449ms\tremaining: 5.96s\n",
            "7:\tlearn: 2.8921096\ttotal: 545ms\tremaining: 6.26s\n",
            "8:\tlearn: 2.8714970\ttotal: 626ms\tremaining: 6.33s\n",
            "9:\tlearn: 2.8483198\ttotal: 671ms\tremaining: 6.04s\n",
            "10:\tlearn: 2.8185073\ttotal: 705ms\tremaining: 5.7s\n",
            "11:\tlearn: 2.7990461\ttotal: 775ms\tremaining: 5.68s\n",
            "12:\tlearn: 2.7825941\ttotal: 842ms\tremaining: 5.64s\n",
            "13:\tlearn: 2.7739942\ttotal: 920ms\tremaining: 5.65s\n",
            "14:\tlearn: 2.7673549\ttotal: 970ms\tremaining: 5.5s\n",
            "15:\tlearn: 2.7562421\ttotal: 1.01s\tremaining: 5.29s\n",
            "16:\tlearn: 2.7457656\ttotal: 1.05s\tremaining: 5.11s\n",
            "17:\tlearn: 2.7346464\ttotal: 1.11s\tremaining: 5.04s\n",
            "18:\tlearn: 2.7164246\ttotal: 1.14s\tremaining: 4.86s\n",
            "19:\tlearn: 2.7025386\ttotal: 1.17s\tremaining: 4.68s\n",
            "20:\tlearn: 2.6881667\ttotal: 1.2s\tremaining: 4.52s\n",
            "21:\tlearn: 2.6773795\ttotal: 1.23s\tremaining: 4.37s\n",
            "22:\tlearn: 2.6710776\ttotal: 1.26s\tremaining: 4.22s\n",
            "23:\tlearn: 2.6660036\ttotal: 1.29s\tremaining: 4.09s\n",
            "24:\tlearn: 2.6622772\ttotal: 1.32s\tremaining: 3.96s\n",
            "25:\tlearn: 2.6540744\ttotal: 1.36s\tremaining: 3.86s\n",
            "26:\tlearn: 2.6504788\ttotal: 1.38s\tremaining: 3.74s\n",
            "27:\tlearn: 2.6406299\ttotal: 1.43s\tremaining: 3.68s\n",
            "28:\tlearn: 2.6299613\ttotal: 1.46s\tremaining: 3.57s\n",
            "29:\tlearn: 2.6255550\ttotal: 1.5s\tremaining: 3.49s\n",
            "30:\tlearn: 2.6102294\ttotal: 1.52s\tremaining: 3.39s\n",
            "31:\tlearn: 2.5993887\ttotal: 1.55s\tremaining: 3.3s\n",
            "32:\tlearn: 2.5933375\ttotal: 1.58s\tremaining: 3.22s\n",
            "33:\tlearn: 2.5747955\ttotal: 1.62s\tremaining: 3.14s\n",
            "34:\tlearn: 2.5725862\ttotal: 1.64s\tremaining: 3.05s\n",
            "35:\tlearn: 2.5649318\ttotal: 1.67s\tremaining: 2.98s\n",
            "36:\tlearn: 2.5616000\ttotal: 1.7s\tremaining: 2.9s\n",
            "37:\tlearn: 2.5539861\ttotal: 1.73s\tremaining: 2.83s\n",
            "38:\tlearn: 2.5518744\ttotal: 1.76s\tremaining: 2.75s\n",
            "39:\tlearn: 2.5386810\ttotal: 1.79s\tremaining: 2.68s\n",
            "40:\tlearn: 2.5353556\ttotal: 1.81s\tremaining: 2.61s\n",
            "41:\tlearn: 2.5307123\ttotal: 1.84s\tremaining: 2.55s\n",
            "42:\tlearn: 2.5262658\ttotal: 1.88s\tremaining: 2.5s\n",
            "43:\tlearn: 2.5161052\ttotal: 1.91s\tremaining: 2.43s\n",
            "44:\tlearn: 2.5072534\ttotal: 1.94s\tremaining: 2.37s\n",
            "45:\tlearn: 2.5046554\ttotal: 1.96s\tremaining: 2.31s\n",
            "46:\tlearn: 2.5012646\ttotal: 2s\tremaining: 2.26s\n",
            "47:\tlearn: 2.4984696\ttotal: 2.02s\tremaining: 2.19s\n",
            "48:\tlearn: 2.4924015\ttotal: 2.06s\tremaining: 2.14s\n",
            "49:\tlearn: 2.4804514\ttotal: 2.08s\tremaining: 2.08s\n",
            "50:\tlearn: 2.4720129\ttotal: 2.11s\tremaining: 2.03s\n",
            "51:\tlearn: 2.4658048\ttotal: 2.14s\tremaining: 1.97s\n",
            "52:\tlearn: 2.4584549\ttotal: 2.17s\tremaining: 1.93s\n",
            "53:\tlearn: 2.4481466\ttotal: 2.2s\tremaining: 1.87s\n",
            "54:\tlearn: 2.4434237\ttotal: 2.23s\tremaining: 1.83s\n",
            "55:\tlearn: 2.4348693\ttotal: 2.26s\tremaining: 1.78s\n",
            "56:\tlearn: 2.4280135\ttotal: 2.29s\tremaining: 1.73s\n",
            "57:\tlearn: 2.4204849\ttotal: 2.33s\tremaining: 1.69s\n",
            "58:\tlearn: 2.4183721\ttotal: 2.36s\tremaining: 1.64s\n",
            "59:\tlearn: 2.4166570\ttotal: 2.38s\tremaining: 1.59s\n",
            "60:\tlearn: 2.4127888\ttotal: 2.44s\tremaining: 1.56s\n",
            "61:\tlearn: 2.4099698\ttotal: 2.47s\tremaining: 1.51s\n",
            "62:\tlearn: 2.4058126\ttotal: 2.5s\tremaining: 1.47s\n",
            "63:\tlearn: 2.3998922\ttotal: 2.53s\tremaining: 1.42s\n",
            "64:\tlearn: 2.3972680\ttotal: 2.55s\tremaining: 1.37s\n",
            "65:\tlearn: 2.3952409\ttotal: 2.57s\tremaining: 1.33s\n",
            "66:\tlearn: 2.3917956\ttotal: 2.6s\tremaining: 1.28s\n",
            "67:\tlearn: 2.3882665\ttotal: 2.64s\tremaining: 1.24s\n",
            "68:\tlearn: 2.3815681\ttotal: 2.67s\tremaining: 1.2s\n",
            "69:\tlearn: 2.3752194\ttotal: 2.71s\tremaining: 1.16s\n",
            "70:\tlearn: 2.3716531\ttotal: 2.74s\tremaining: 1.12s\n",
            "71:\tlearn: 2.3672229\ttotal: 2.77s\tremaining: 1.08s\n",
            "72:\tlearn: 2.3659110\ttotal: 2.8s\tremaining: 1.03s\n",
            "73:\tlearn: 2.3623398\ttotal: 2.83s\tremaining: 993ms\n",
            "74:\tlearn: 2.3608448\ttotal: 2.85s\tremaining: 952ms\n",
            "75:\tlearn: 2.3588507\ttotal: 2.89s\tremaining: 912ms\n",
            "76:\tlearn: 2.3570459\ttotal: 2.92s\tremaining: 871ms\n",
            "77:\tlearn: 2.3504502\ttotal: 2.94s\tremaining: 830ms\n",
            "78:\tlearn: 2.3452559\ttotal: 2.97s\tremaining: 790ms\n",
            "79:\tlearn: 2.3442130\ttotal: 3s\tremaining: 751ms\n",
            "80:\tlearn: 2.3410425\ttotal: 3.03s\tremaining: 711ms\n",
            "81:\tlearn: 2.3365734\ttotal: 3.06s\tremaining: 673ms\n",
            "82:\tlearn: 2.3356527\ttotal: 3.1s\tremaining: 634ms\n",
            "83:\tlearn: 2.3338042\ttotal: 3.13s\tremaining: 596ms\n",
            "84:\tlearn: 2.3305012\ttotal: 3.16s\tremaining: 557ms\n",
            "85:\tlearn: 2.3273647\ttotal: 3.19s\tremaining: 519ms\n",
            "86:\tlearn: 2.3258402\ttotal: 3.21s\tremaining: 480ms\n",
            "87:\tlearn: 2.3240914\ttotal: 3.24s\tremaining: 442ms\n",
            "88:\tlearn: 2.3210360\ttotal: 3.27s\tremaining: 404ms\n",
            "89:\tlearn: 2.3195962\ttotal: 3.3s\tremaining: 367ms\n",
            "90:\tlearn: 2.3184072\ttotal: 3.33s\tremaining: 329ms\n",
            "91:\tlearn: 2.3146657\ttotal: 3.35s\tremaining: 292ms\n",
            "92:\tlearn: 2.3130899\ttotal: 3.38s\tremaining: 254ms\n",
            "93:\tlearn: 2.3114265\ttotal: 3.41s\tremaining: 218ms\n",
            "94:\tlearn: 2.3093882\ttotal: 3.46s\tremaining: 182ms\n",
            "95:\tlearn: 2.3071723\ttotal: 3.49s\tremaining: 145ms\n",
            "96:\tlearn: 2.3055055\ttotal: 3.52s\tremaining: 109ms\n",
            "97:\tlearn: 2.3011793\ttotal: 3.56s\tremaining: 72.6ms\n",
            "98:\tlearn: 2.2999218\ttotal: 3.58s\tremaining: 36.2ms\n",
            "99:\tlearn: 2.2978862\ttotal: 3.62s\tremaining: 0us\n",
            "7.137913635675946\n",
            "Learning rate set to 0.5\n",
            "0:\tlearn: 4.0827907\ttotal: 44.7ms\tremaining: 4.43s\n",
            "1:\tlearn: 3.4886527\ttotal: 73.5ms\tremaining: 3.6s\n",
            "2:\tlearn: 3.2407243\ttotal: 104ms\tremaining: 3.37s\n",
            "3:\tlearn: 3.1002014\ttotal: 135ms\tremaining: 3.25s\n",
            "4:\tlearn: 3.0429071\ttotal: 162ms\tremaining: 3.08s\n",
            "5:\tlearn: 2.9991591\ttotal: 201ms\tremaining: 3.15s\n",
            "6:\tlearn: 2.9775906\ttotal: 229ms\tremaining: 3.04s\n",
            "7:\tlearn: 2.9606959\ttotal: 257ms\tremaining: 2.95s\n",
            "8:\tlearn: 2.9532104\ttotal: 280ms\tremaining: 2.83s\n",
            "9:\tlearn: 2.9352142\ttotal: 314ms\tremaining: 2.83s\n",
            "10:\tlearn: 2.9198222\ttotal: 342ms\tremaining: 2.77s\n",
            "11:\tlearn: 2.9041003\ttotal: 371ms\tremaining: 2.72s\n",
            "12:\tlearn: 2.8802448\ttotal: 409ms\tremaining: 2.74s\n",
            "13:\tlearn: 2.8579228\ttotal: 441ms\tremaining: 2.71s\n",
            "14:\tlearn: 2.8474036\ttotal: 473ms\tremaining: 2.68s\n",
            "15:\tlearn: 2.8311761\ttotal: 502ms\tremaining: 2.63s\n",
            "16:\tlearn: 2.8023080\ttotal: 533ms\tremaining: 2.6s\n",
            "17:\tlearn: 2.7976154\ttotal: 560ms\tremaining: 2.55s\n",
            "18:\tlearn: 2.7856974\ttotal: 591ms\tremaining: 2.52s\n",
            "19:\tlearn: 2.7710426\ttotal: 639ms\tremaining: 2.56s\n",
            "20:\tlearn: 2.7600662\ttotal: 676ms\tremaining: 2.54s\n",
            "21:\tlearn: 2.7514790\ttotal: 704ms\tremaining: 2.5s\n",
            "22:\tlearn: 2.7385622\ttotal: 739ms\tremaining: 2.47s\n",
            "23:\tlearn: 2.7321664\ttotal: 766ms\tremaining: 2.42s\n",
            "24:\tlearn: 2.7212136\ttotal: 796ms\tremaining: 2.39s\n",
            "25:\tlearn: 2.7128968\ttotal: 837ms\tremaining: 2.38s\n",
            "26:\tlearn: 2.7058951\ttotal: 891ms\tremaining: 2.41s\n",
            "27:\tlearn: 2.6973037\ttotal: 939ms\tremaining: 2.41s\n",
            "28:\tlearn: 2.6898688\ttotal: 992ms\tremaining: 2.43s\n",
            "29:\tlearn: 2.6828824\ttotal: 1.07s\tremaining: 2.49s\n",
            "30:\tlearn: 2.6575205\ttotal: 1.13s\tremaining: 2.51s\n",
            "31:\tlearn: 2.6542155\ttotal: 1.18s\tremaining: 2.5s\n",
            "32:\tlearn: 2.6509514\ttotal: 1.24s\tremaining: 2.52s\n",
            "33:\tlearn: 2.6470419\ttotal: 1.31s\tremaining: 2.54s\n",
            "34:\tlearn: 2.6388117\ttotal: 1.39s\tremaining: 2.58s\n",
            "35:\tlearn: 2.6247496\ttotal: 1.46s\tremaining: 2.59s\n",
            "36:\tlearn: 2.6057171\ttotal: 1.52s\tremaining: 2.59s\n",
            "37:\tlearn: 2.5911821\ttotal: 1.58s\tremaining: 2.58s\n",
            "38:\tlearn: 2.5796264\ttotal: 1.64s\tremaining: 2.57s\n",
            "39:\tlearn: 2.5708390\ttotal: 1.7s\tremaining: 2.55s\n",
            "40:\tlearn: 2.5662400\ttotal: 1.77s\tremaining: 2.55s\n",
            "41:\tlearn: 2.5559111\ttotal: 1.83s\tremaining: 2.53s\n",
            "42:\tlearn: 2.5456824\ttotal: 1.9s\tremaining: 2.51s\n",
            "43:\tlearn: 2.5330321\ttotal: 1.95s\tremaining: 2.48s\n",
            "44:\tlearn: 2.5274927\ttotal: 2.02s\tremaining: 2.46s\n",
            "45:\tlearn: 2.5154430\ttotal: 2.08s\tremaining: 2.44s\n",
            "46:\tlearn: 2.5029971\ttotal: 2.14s\tremaining: 2.41s\n",
            "47:\tlearn: 2.4995711\ttotal: 2.18s\tremaining: 2.36s\n",
            "48:\tlearn: 2.4956120\ttotal: 2.25s\tremaining: 2.34s\n",
            "49:\tlearn: 2.4933876\ttotal: 2.3s\tremaining: 2.3s\n",
            "50:\tlearn: 2.4914103\ttotal: 2.35s\tremaining: 2.25s\n",
            "51:\tlearn: 2.4834708\ttotal: 2.41s\tremaining: 2.22s\n",
            "52:\tlearn: 2.4777589\ttotal: 2.48s\tremaining: 2.19s\n",
            "53:\tlearn: 2.4729453\ttotal: 2.54s\tremaining: 2.17s\n",
            "54:\tlearn: 2.4696003\ttotal: 2.59s\tremaining: 2.12s\n",
            "55:\tlearn: 2.4678912\ttotal: 2.64s\tremaining: 2.08s\n",
            "56:\tlearn: 2.4628049\ttotal: 2.7s\tremaining: 2.03s\n",
            "57:\tlearn: 2.4591932\ttotal: 2.76s\tremaining: 2s\n",
            "58:\tlearn: 2.4572336\ttotal: 2.84s\tremaining: 1.97s\n",
            "59:\tlearn: 2.4546479\ttotal: 2.92s\tremaining: 1.94s\n",
            "60:\tlearn: 2.4526222\ttotal: 2.98s\tremaining: 1.9s\n",
            "61:\tlearn: 2.4448913\ttotal: 3.05s\tremaining: 1.87s\n",
            "62:\tlearn: 2.4414073\ttotal: 3.11s\tremaining: 1.83s\n",
            "63:\tlearn: 2.4382215\ttotal: 3.18s\tremaining: 1.79s\n",
            "64:\tlearn: 2.4275913\ttotal: 3.25s\tremaining: 1.75s\n",
            "65:\tlearn: 2.4270064\ttotal: 3.29s\tremaining: 1.69s\n",
            "66:\tlearn: 2.4219621\ttotal: 3.35s\tremaining: 1.65s\n",
            "67:\tlearn: 2.4189061\ttotal: 3.42s\tremaining: 1.61s\n",
            "68:\tlearn: 2.4149521\ttotal: 3.49s\tremaining: 1.57s\n",
            "69:\tlearn: 2.4107246\ttotal: 3.56s\tremaining: 1.53s\n",
            "70:\tlearn: 2.4065331\ttotal: 3.64s\tremaining: 1.49s\n",
            "71:\tlearn: 2.4010110\ttotal: 3.69s\tremaining: 1.44s\n",
            "72:\tlearn: 2.3933990\ttotal: 3.76s\tremaining: 1.39s\n",
            "73:\tlearn: 2.3900397\ttotal: 3.81s\tremaining: 1.34s\n",
            "74:\tlearn: 2.3827098\ttotal: 3.89s\tremaining: 1.29s\n",
            "75:\tlearn: 2.3781174\ttotal: 3.94s\tremaining: 1.25s\n",
            "76:\tlearn: 2.3758043\ttotal: 3.99s\tremaining: 1.19s\n",
            "77:\tlearn: 2.3745922\ttotal: 4.06s\tremaining: 1.15s\n",
            "78:\tlearn: 2.3698506\ttotal: 4.14s\tremaining: 1.1s\n",
            "79:\tlearn: 2.3662677\ttotal: 4.22s\tremaining: 1.05s\n",
            "80:\tlearn: 2.3571512\ttotal: 4.27s\tremaining: 1s\n",
            "81:\tlearn: 2.3524291\ttotal: 4.34s\tremaining: 953ms\n",
            "82:\tlearn: 2.3497948\ttotal: 4.44s\tremaining: 910ms\n",
            "83:\tlearn: 2.3454493\ttotal: 4.51s\tremaining: 859ms\n",
            "84:\tlearn: 2.3432442\ttotal: 4.56s\tremaining: 805ms\n",
            "85:\tlearn: 2.3423964\ttotal: 4.62s\tremaining: 752ms\n",
            "86:\tlearn: 2.3412852\ttotal: 4.67s\tremaining: 698ms\n",
            "87:\tlearn: 2.3368437\ttotal: 4.74s\tremaining: 646ms\n",
            "88:\tlearn: 2.3353360\ttotal: 4.77s\tremaining: 590ms\n",
            "89:\tlearn: 2.3325049\ttotal: 4.82s\tremaining: 535ms\n",
            "90:\tlearn: 2.3313375\ttotal: 4.84s\tremaining: 479ms\n",
            "91:\tlearn: 2.3282141\ttotal: 4.87s\tremaining: 424ms\n",
            "92:\tlearn: 2.3257134\ttotal: 4.91s\tremaining: 369ms\n",
            "93:\tlearn: 2.3235742\ttotal: 4.94s\tremaining: 315ms\n",
            "94:\tlearn: 2.3178426\ttotal: 4.97s\tremaining: 262ms\n",
            "95:\tlearn: 2.3156963\ttotal: 5s\tremaining: 208ms\n",
            "96:\tlearn: 2.3140349\ttotal: 5.03s\tremaining: 155ms\n",
            "97:\tlearn: 2.3121423\ttotal: 5.09s\tremaining: 104ms\n",
            "98:\tlearn: 2.3087237\ttotal: 5.12s\tremaining: 51.7ms\n",
            "99:\tlearn: 2.3066389\ttotal: 5.15s\tremaining: 0us\n",
            "7.030270604955238\n"
          ]
        }
      ]
    },
    {
      "cell_type": "markdown",
      "source": [
        "## Ridge"
      ],
      "metadata": {
        "id": "BvThlP9zKAAE"
      }
    },
    {
      "cell_type": "code",
      "source": [
        "from sklearn.linear_model import Ridge\n",
        "from sklearn.model_selection import StratifiedKFold\n",
        "from sklearn.metrics import mean_squared_error\n",
        "model = Ridge()\n",
        "skf = StratifiedKFold(n_splits=5)\n",
        "X = train.drop(['TARGET'],axis=1)\n",
        "y = train['TARGET']\n",
        "\n",
        "for train_idx, test_idx in skf.split(X,y):\n",
        "    X_train, X_test = X.iloc[train_idx], X.iloc[test_idx]\n",
        "    y_train, y_test = y.iloc[train_idx], y.iloc[test_idx]\n",
        "    model.fit(X_train,y_train)\n",
        "    y_pred = model.predict(X_test)\n",
        "    mse = mean_squared_error(y_test,y_pred)\n",
        "    rmse = np.sqrt(mse)\n",
        "    print(mse)\n",
        "answer = model.predict(test)"
      ],
      "metadata": {
        "colab": {
          "base_uri": "https://localhost:8080/"
        },
        "id": "hf9ik0t8KFZ1",
        "outputId": "1a33897f-6707-4037-8ef9-3a7a1dd2846e"
      },
      "execution_count": null,
      "outputs": [
        {
          "output_type": "stream",
          "name": "stderr",
          "text": [
            "/usr/local/lib/python3.10/dist-packages/sklearn/model_selection/_split.py:700: UserWarning: The least populated class in y has only 1 members, which is less than n_splits=5.\n",
            "  warnings.warn(\n",
            "/usr/local/lib/python3.10/dist-packages/sklearn/linear_model/_ridge.py:216: LinAlgWarning: Ill-conditioned matrix (rcond=1.36096e-17): result may not be accurate.\n",
            "  return linalg.solve(A, Xy, assume_a=\"pos\", overwrite_a=True).T\n",
            "/usr/local/lib/python3.10/dist-packages/sklearn/linear_model/_ridge.py:216: LinAlgWarning: Ill-conditioned matrix (rcond=1.52635e-17): result may not be accurate.\n",
            "  return linalg.solve(A, Xy, assume_a=\"pos\", overwrite_a=True).T\n"
          ]
        },
        {
          "output_type": "stream",
          "name": "stdout",
          "text": [
            "12.193617895684467\n",
            "12.434005383031863\n"
          ]
        },
        {
          "output_type": "stream",
          "name": "stderr",
          "text": [
            "/usr/local/lib/python3.10/dist-packages/sklearn/linear_model/_ridge.py:216: LinAlgWarning: Ill-conditioned matrix (rcond=1.40209e-17): result may not be accurate.\n",
            "  return linalg.solve(A, Xy, assume_a=\"pos\", overwrite_a=True).T\n"
          ]
        },
        {
          "output_type": "stream",
          "name": "stdout",
          "text": [
            "14.707639836591564\n"
          ]
        },
        {
          "output_type": "stream",
          "name": "stderr",
          "text": [
            "/usr/local/lib/python3.10/dist-packages/sklearn/linear_model/_ridge.py:216: LinAlgWarning: Ill-conditioned matrix (rcond=1.44845e-17): result may not be accurate.\n",
            "  return linalg.solve(A, Xy, assume_a=\"pos\", overwrite_a=True).T\n"
          ]
        },
        {
          "output_type": "stream",
          "name": "stdout",
          "text": [
            "12.132412331273997\n",
            "12.541441005020646\n"
          ]
        },
        {
          "output_type": "stream",
          "name": "stderr",
          "text": [
            "/usr/local/lib/python3.10/dist-packages/sklearn/linear_model/_ridge.py:216: LinAlgWarning: Ill-conditioned matrix (rcond=1.44472e-17): result may not be accurate.\n",
            "  return linalg.solve(A, Xy, assume_a=\"pos\", overwrite_a=True).T\n"
          ]
        }
      ]
    },
    {
      "cell_type": "markdown",
      "source": [
        "## Lasso\n"
      ],
      "metadata": {
        "id": "RYZJ22hUKrmm"
      }
    },
    {
      "cell_type": "code",
      "source": [
        "from sklearn.linear_model import Lasso\n",
        "from sklearn.model_selection import StratifiedKFold\n",
        "from sklearn.metrics import mean_squared_error\n",
        "model = Lasso()\n",
        "skf = StratifiedKFold(n_splits=5)\n",
        "X = train.drop(['TARGET'],axis=1)\n",
        "y = train['TARGET']\n",
        "\n",
        "for train_idx, test_idx in skf.split(X,y):\n",
        "    X_train, X_test = X.iloc[train_idx], X.iloc[test_idx]\n",
        "    y_train, y_test = y.iloc[train_idx], y.iloc[test_idx]\n",
        "    model.fit(X_train,y_train)\n",
        "    y_pred = model.predict(X_test)\n",
        "    mse = mean_squared_error(y_test,y_pred)\n",
        "    rmse = np.sqrt(mse)\n",
        "    print(mse)\n",
        "answer = model.predict(test)"
      ],
      "metadata": {
        "colab": {
          "base_uri": "https://localhost:8080/"
        },
        "id": "AkSLLr6tKuu_",
        "outputId": "99eb3196-8143-44dc-ebb7-08b174a66016"
      },
      "execution_count": null,
      "outputs": [
        {
          "output_type": "stream",
          "name": "stderr",
          "text": [
            "/usr/local/lib/python3.10/dist-packages/sklearn/model_selection/_split.py:700: UserWarning: The least populated class in y has only 1 members, which is less than n_splits=5.\n",
            "  warnings.warn(\n"
          ]
        },
        {
          "output_type": "stream",
          "name": "stdout",
          "text": [
            "14.274792658291705\n",
            "14.311072669914303\n",
            "16.593210573787154\n",
            "13.994093374245303\n",
            "14.07045172046758\n"
          ]
        }
      ]
    },
    {
      "cell_type": "code",
      "source": [
        "from lightgbm import LGBMRegressor as LGBR"
      ],
      "metadata": {
        "id": "iiH9QUeTsC96"
      },
      "execution_count": 114,
      "outputs": []
    },
    {
      "cell_type": "code",
      "source": [
        "model = LGBR(iterations=100)\n",
        "skf = StratifiedKFold(n_splits=5)\n",
        "X = train.drop(['TARGET'],axis=1)\n",
        "y = train['TARGET']\n",
        "\n",
        "for train_idx, test_idx in skf.split(X,y):\n",
        "    X_train, X_test = X.iloc[train_idx], X.iloc[test_idx]\n",
        "    y_train, y_test = y.iloc[train_idx], y.iloc[test_idx]\n",
        "    model.fit(X_train,y_train)\n",
        "    y_pred = model.predict(X_test)\n",
        "    mse = mean_squared_error(y_test,y_pred)\n",
        "    rmse = np.sqrt(mse)\n",
        "    print(mse)\n",
        "answer = model.predict(test)"
      ],
      "metadata": {
        "colab": {
          "base_uri": "https://localhost:8080/"
        },
        "id": "vlOK68yvLrvM",
        "outputId": "e879aadb-740d-4431-8a39-9e7f61a8e189"
      },
      "execution_count": 115,
      "outputs": [
        {
          "output_type": "stream",
          "name": "stderr",
          "text": [
            "/usr/local/lib/python3.10/dist-packages/sklearn/model_selection/_split.py:700: UserWarning: The least populated class in y has only 1 members, which is less than n_splits=5.\n",
            "  warnings.warn(\n"
          ]
        },
        {
          "output_type": "stream",
          "name": "stdout",
          "text": [
            "[LightGBM] [Warning] Unknown parameter: iterations\n",
            "[LightGBM] [Warning] Unknown parameter: iterations\n",
            "[LightGBM] [Info] Auto-choosing row-wise multi-threading, the overhead of testing was 0.098793 seconds.\n",
            "You can set `force_row_wise=true` to remove the overhead.\n",
            "And if memory is not enough, you can set `force_col_wise=true`.\n",
            "[LightGBM] [Info] Total Bins 1353\n",
            "[LightGBM] [Info] Number of data points in the train set: 201831, number of used features: 16\n",
            "[LightGBM] [Info] Start training from score 3.593194\n",
            "[LightGBM] [Warning] Unknown parameter: iterations\n",
            "6.888929785672492\n",
            "[LightGBM] [Warning] Unknown parameter: iterations\n",
            "[LightGBM] [Warning] Unknown parameter: iterations\n",
            "[LightGBM] [Info] Auto-choosing row-wise multi-threading, the overhead of testing was 0.023846 seconds.\n",
            "You can set `force_row_wise=true` to remove the overhead.\n",
            "And if memory is not enough, you can set `force_col_wise=true`.\n",
            "[LightGBM] [Info] Total Bins 1345\n",
            "[LightGBM] [Info] Number of data points in the train set: 201831, number of used features: 16\n",
            "[LightGBM] [Info] Start training from score 3.592838\n",
            "[LightGBM] [Warning] Unknown parameter: iterations\n",
            "7.6109877011073035\n",
            "[LightGBM] [Warning] Unknown parameter: iterations\n",
            "[LightGBM] [Warning] Unknown parameter: iterations\n",
            "[LightGBM] [Info] Auto-choosing row-wise multi-threading, the overhead of testing was 0.029848 seconds.\n",
            "You can set `force_row_wise=true` to remove the overhead.\n",
            "And if memory is not enough, you can set `force_col_wise=true`.\n",
            "[LightGBM] [Info] Total Bins 1342\n",
            "[LightGBM] [Info] Number of data points in the train set: 201831, number of used features: 16\n",
            "[LightGBM] [Info] Start training from score 3.591168\n",
            "[LightGBM] [Warning] Unknown parameter: iterations\n",
            "10.007648986533438\n",
            "[LightGBM] [Warning] Unknown parameter: iterations\n",
            "[LightGBM] [Warning] Unknown parameter: iterations\n",
            "[LightGBM] [Info] Auto-choosing row-wise multi-threading, the overhead of testing was 0.024071 seconds.\n",
            "You can set `force_row_wise=true` to remove the overhead.\n",
            "And if memory is not enough, you can set `force_col_wise=true`.\n",
            "[LightGBM] [Info] Total Bins 1380\n",
            "[LightGBM] [Info] Number of data points in the train set: 201831, number of used features: 16\n",
            "[LightGBM] [Info] Start training from score 3.592392\n",
            "[LightGBM] [Warning] Unknown parameter: iterations\n",
            "7.212051088873871\n",
            "[LightGBM] [Warning] Unknown parameter: iterations\n",
            "[LightGBM] [Warning] Unknown parameter: iterations\n",
            "[LightGBM] [Info] Auto-choosing row-wise multi-threading, the overhead of testing was 0.024254 seconds.\n",
            "You can set `force_row_wise=true` to remove the overhead.\n",
            "And if memory is not enough, you can set `force_col_wise=true`.\n",
            "[LightGBM] [Info] Total Bins 1362\n",
            "[LightGBM] [Info] Number of data points in the train set: 201832, number of used features: 16\n",
            "[LightGBM] [Info] Start training from score 3.593538\n",
            "[LightGBM] [Warning] Unknown parameter: iterations\n",
            "6.8066604802966335\n",
            "[LightGBM] [Warning] Unknown parameter: iterations\n"
          ]
        }
      ]
    },
    {
      "cell_type": "markdown",
      "source": [
        "# 3. 제출"
      ],
      "metadata": {
        "id": "gE34Fx-w36ki"
      }
    },
    {
      "cell_type": "code",
      "source": [
        "submission['TARGET'] = answer"
      ],
      "metadata": {
        "id": "aCPc8--Arixz"
      },
      "execution_count": 121,
      "outputs": []
    },
    {
      "cell_type": "code",
      "source": [
        "submission.to_csv(\"/content/drive/MyDrive/data_0313/trial7.csv\",index=False)"
      ],
      "metadata": {
        "id": "v_-xqwSErrku"
      },
      "execution_count": 122,
      "outputs": []
    },
    {
      "cell_type": "code",
      "source": [
        "submission"
      ],
      "metadata": {
        "colab": {
          "base_uri": "https://localhost:8080/",
          "height": 424
        },
        "id": "c98t9L_kr91S",
        "outputId": "65fb6c70-d54e-4d24-9762-2b8d72efda29"
      },
      "execution_count": 123,
      "outputs": [
        {
          "output_type": "execute_result",
          "data": {
            "text/plain": [
              "            sessionID     TARGET\n",
              "0      SESSION_252289  25.318528\n",
              "1      SESSION_252290   1.022468\n",
              "2      SESSION_252291   2.691314\n",
              "3      SESSION_252292   4.348988\n",
              "4      SESSION_252293  12.907792\n",
              "...               ...        ...\n",
              "79781  SESSION_332070   1.096594\n",
              "79782  SESSION_332071   1.090380\n",
              "79783  SESSION_332072   2.759641\n",
              "79784  SESSION_332073   4.750603\n",
              "79785  SESSION_332074   0.938288\n",
              "\n",
              "[79786 rows x 2 columns]"
            ],
            "text/html": [
              "\n",
              "  <div id=\"df-14f90f83-fd5c-406a-b7f8-42fbd9d6040e\" class=\"colab-df-container\">\n",
              "    <div>\n",
              "<style scoped>\n",
              "    .dataframe tbody tr th:only-of-type {\n",
              "        vertical-align: middle;\n",
              "    }\n",
              "\n",
              "    .dataframe tbody tr th {\n",
              "        vertical-align: top;\n",
              "    }\n",
              "\n",
              "    .dataframe thead th {\n",
              "        text-align: right;\n",
              "    }\n",
              "</style>\n",
              "<table border=\"1\" class=\"dataframe\">\n",
              "  <thead>\n",
              "    <tr style=\"text-align: right;\">\n",
              "      <th></th>\n",
              "      <th>sessionID</th>\n",
              "      <th>TARGET</th>\n",
              "    </tr>\n",
              "  </thead>\n",
              "  <tbody>\n",
              "    <tr>\n",
              "      <th>0</th>\n",
              "      <td>SESSION_252289</td>\n",
              "      <td>25.318528</td>\n",
              "    </tr>\n",
              "    <tr>\n",
              "      <th>1</th>\n",
              "      <td>SESSION_252290</td>\n",
              "      <td>1.022468</td>\n",
              "    </tr>\n",
              "    <tr>\n",
              "      <th>2</th>\n",
              "      <td>SESSION_252291</td>\n",
              "      <td>2.691314</td>\n",
              "    </tr>\n",
              "    <tr>\n",
              "      <th>3</th>\n",
              "      <td>SESSION_252292</td>\n",
              "      <td>4.348988</td>\n",
              "    </tr>\n",
              "    <tr>\n",
              "      <th>4</th>\n",
              "      <td>SESSION_252293</td>\n",
              "      <td>12.907792</td>\n",
              "    </tr>\n",
              "    <tr>\n",
              "      <th>...</th>\n",
              "      <td>...</td>\n",
              "      <td>...</td>\n",
              "    </tr>\n",
              "    <tr>\n",
              "      <th>79781</th>\n",
              "      <td>SESSION_332070</td>\n",
              "      <td>1.096594</td>\n",
              "    </tr>\n",
              "    <tr>\n",
              "      <th>79782</th>\n",
              "      <td>SESSION_332071</td>\n",
              "      <td>1.090380</td>\n",
              "    </tr>\n",
              "    <tr>\n",
              "      <th>79783</th>\n",
              "      <td>SESSION_332072</td>\n",
              "      <td>2.759641</td>\n",
              "    </tr>\n",
              "    <tr>\n",
              "      <th>79784</th>\n",
              "      <td>SESSION_332073</td>\n",
              "      <td>4.750603</td>\n",
              "    </tr>\n",
              "    <tr>\n",
              "      <th>79785</th>\n",
              "      <td>SESSION_332074</td>\n",
              "      <td>0.938288</td>\n",
              "    </tr>\n",
              "  </tbody>\n",
              "</table>\n",
              "<p>79786 rows × 2 columns</p>\n",
              "</div>\n",
              "    <div class=\"colab-df-buttons\">\n",
              "\n",
              "  <div class=\"colab-df-container\">\n",
              "    <button class=\"colab-df-convert\" onclick=\"convertToInteractive('df-14f90f83-fd5c-406a-b7f8-42fbd9d6040e')\"\n",
              "            title=\"Convert this dataframe to an interactive table.\"\n",
              "            style=\"display:none;\">\n",
              "\n",
              "  <svg xmlns=\"http://www.w3.org/2000/svg\" height=\"24px\" viewBox=\"0 -960 960 960\">\n",
              "    <path d=\"M120-120v-720h720v720H120Zm60-500h600v-160H180v160Zm220 220h160v-160H400v160Zm0 220h160v-160H400v160ZM180-400h160v-160H180v160Zm440 0h160v-160H620v160ZM180-180h160v-160H180v160Zm440 0h160v-160H620v160Z\"/>\n",
              "  </svg>\n",
              "    </button>\n",
              "\n",
              "  <style>\n",
              "    .colab-df-container {\n",
              "      display:flex;\n",
              "      gap: 12px;\n",
              "    }\n",
              "\n",
              "    .colab-df-convert {\n",
              "      background-color: #E8F0FE;\n",
              "      border: none;\n",
              "      border-radius: 50%;\n",
              "      cursor: pointer;\n",
              "      display: none;\n",
              "      fill: #1967D2;\n",
              "      height: 32px;\n",
              "      padding: 0 0 0 0;\n",
              "      width: 32px;\n",
              "    }\n",
              "\n",
              "    .colab-df-convert:hover {\n",
              "      background-color: #E2EBFA;\n",
              "      box-shadow: 0px 1px 2px rgba(60, 64, 67, 0.3), 0px 1px 3px 1px rgba(60, 64, 67, 0.15);\n",
              "      fill: #174EA6;\n",
              "    }\n",
              "\n",
              "    .colab-df-buttons div {\n",
              "      margin-bottom: 4px;\n",
              "    }\n",
              "\n",
              "    [theme=dark] .colab-df-convert {\n",
              "      background-color: #3B4455;\n",
              "      fill: #D2E3FC;\n",
              "    }\n",
              "\n",
              "    [theme=dark] .colab-df-convert:hover {\n",
              "      background-color: #434B5C;\n",
              "      box-shadow: 0px 1px 3px 1px rgba(0, 0, 0, 0.15);\n",
              "      filter: drop-shadow(0px 1px 2px rgba(0, 0, 0, 0.3));\n",
              "      fill: #FFFFFF;\n",
              "    }\n",
              "  </style>\n",
              "\n",
              "    <script>\n",
              "      const buttonEl =\n",
              "        document.querySelector('#df-14f90f83-fd5c-406a-b7f8-42fbd9d6040e button.colab-df-convert');\n",
              "      buttonEl.style.display =\n",
              "        google.colab.kernel.accessAllowed ? 'block' : 'none';\n",
              "\n",
              "      async function convertToInteractive(key) {\n",
              "        const element = document.querySelector('#df-14f90f83-fd5c-406a-b7f8-42fbd9d6040e');\n",
              "        const dataTable =\n",
              "          await google.colab.kernel.invokeFunction('convertToInteractive',\n",
              "                                                    [key], {});\n",
              "        if (!dataTable) return;\n",
              "\n",
              "        const docLinkHtml = 'Like what you see? Visit the ' +\n",
              "          '<a target=\"_blank\" href=https://colab.research.google.com/notebooks/data_table.ipynb>data table notebook</a>'\n",
              "          + ' to learn more about interactive tables.';\n",
              "        element.innerHTML = '';\n",
              "        dataTable['output_type'] = 'display_data';\n",
              "        await google.colab.output.renderOutput(dataTable, element);\n",
              "        const docLink = document.createElement('div');\n",
              "        docLink.innerHTML = docLinkHtml;\n",
              "        element.appendChild(docLink);\n",
              "      }\n",
              "    </script>\n",
              "  </div>\n",
              "\n",
              "\n",
              "<div id=\"df-00a2a74b-baa3-4533-b47e-d055f691df22\">\n",
              "  <button class=\"colab-df-quickchart\" onclick=\"quickchart('df-00a2a74b-baa3-4533-b47e-d055f691df22')\"\n",
              "            title=\"Suggest charts\"\n",
              "            style=\"display:none;\">\n",
              "\n",
              "<svg xmlns=\"http://www.w3.org/2000/svg\" height=\"24px\"viewBox=\"0 0 24 24\"\n",
              "     width=\"24px\">\n",
              "    <g>\n",
              "        <path d=\"M19 3H5c-1.1 0-2 .9-2 2v14c0 1.1.9 2 2 2h14c1.1 0 2-.9 2-2V5c0-1.1-.9-2-2-2zM9 17H7v-7h2v7zm4 0h-2V7h2v10zm4 0h-2v-4h2v4z\"/>\n",
              "    </g>\n",
              "</svg>\n",
              "  </button>\n",
              "\n",
              "<style>\n",
              "  .colab-df-quickchart {\n",
              "      --bg-color: #E8F0FE;\n",
              "      --fill-color: #1967D2;\n",
              "      --hover-bg-color: #E2EBFA;\n",
              "      --hover-fill-color: #174EA6;\n",
              "      --disabled-fill-color: #AAA;\n",
              "      --disabled-bg-color: #DDD;\n",
              "  }\n",
              "\n",
              "  [theme=dark] .colab-df-quickchart {\n",
              "      --bg-color: #3B4455;\n",
              "      --fill-color: #D2E3FC;\n",
              "      --hover-bg-color: #434B5C;\n",
              "      --hover-fill-color: #FFFFFF;\n",
              "      --disabled-bg-color: #3B4455;\n",
              "      --disabled-fill-color: #666;\n",
              "  }\n",
              "\n",
              "  .colab-df-quickchart {\n",
              "    background-color: var(--bg-color);\n",
              "    border: none;\n",
              "    border-radius: 50%;\n",
              "    cursor: pointer;\n",
              "    display: none;\n",
              "    fill: var(--fill-color);\n",
              "    height: 32px;\n",
              "    padding: 0;\n",
              "    width: 32px;\n",
              "  }\n",
              "\n",
              "  .colab-df-quickchart:hover {\n",
              "    background-color: var(--hover-bg-color);\n",
              "    box-shadow: 0 1px 2px rgba(60, 64, 67, 0.3), 0 1px 3px 1px rgba(60, 64, 67, 0.15);\n",
              "    fill: var(--button-hover-fill-color);\n",
              "  }\n",
              "\n",
              "  .colab-df-quickchart-complete:disabled,\n",
              "  .colab-df-quickchart-complete:disabled:hover {\n",
              "    background-color: var(--disabled-bg-color);\n",
              "    fill: var(--disabled-fill-color);\n",
              "    box-shadow: none;\n",
              "  }\n",
              "\n",
              "  .colab-df-spinner {\n",
              "    border: 2px solid var(--fill-color);\n",
              "    border-color: transparent;\n",
              "    border-bottom-color: var(--fill-color);\n",
              "    animation:\n",
              "      spin 1s steps(1) infinite;\n",
              "  }\n",
              "\n",
              "  @keyframes spin {\n",
              "    0% {\n",
              "      border-color: transparent;\n",
              "      border-bottom-color: var(--fill-color);\n",
              "      border-left-color: var(--fill-color);\n",
              "    }\n",
              "    20% {\n",
              "      border-color: transparent;\n",
              "      border-left-color: var(--fill-color);\n",
              "      border-top-color: var(--fill-color);\n",
              "    }\n",
              "    30% {\n",
              "      border-color: transparent;\n",
              "      border-left-color: var(--fill-color);\n",
              "      border-top-color: var(--fill-color);\n",
              "      border-right-color: var(--fill-color);\n",
              "    }\n",
              "    40% {\n",
              "      border-color: transparent;\n",
              "      border-right-color: var(--fill-color);\n",
              "      border-top-color: var(--fill-color);\n",
              "    }\n",
              "    60% {\n",
              "      border-color: transparent;\n",
              "      border-right-color: var(--fill-color);\n",
              "    }\n",
              "    80% {\n",
              "      border-color: transparent;\n",
              "      border-right-color: var(--fill-color);\n",
              "      border-bottom-color: var(--fill-color);\n",
              "    }\n",
              "    90% {\n",
              "      border-color: transparent;\n",
              "      border-bottom-color: var(--fill-color);\n",
              "    }\n",
              "  }\n",
              "</style>\n",
              "\n",
              "  <script>\n",
              "    async function quickchart(key) {\n",
              "      const quickchartButtonEl =\n",
              "        document.querySelector('#' + key + ' button');\n",
              "      quickchartButtonEl.disabled = true;  // To prevent multiple clicks.\n",
              "      quickchartButtonEl.classList.add('colab-df-spinner');\n",
              "      try {\n",
              "        const charts = await google.colab.kernel.invokeFunction(\n",
              "            'suggestCharts', [key], {});\n",
              "      } catch (error) {\n",
              "        console.error('Error during call to suggestCharts:', error);\n",
              "      }\n",
              "      quickchartButtonEl.classList.remove('colab-df-spinner');\n",
              "      quickchartButtonEl.classList.add('colab-df-quickchart-complete');\n",
              "    }\n",
              "    (() => {\n",
              "      let quickchartButtonEl =\n",
              "        document.querySelector('#df-00a2a74b-baa3-4533-b47e-d055f691df22 button');\n",
              "      quickchartButtonEl.style.display =\n",
              "        google.colab.kernel.accessAllowed ? 'block' : 'none';\n",
              "    })();\n",
              "  </script>\n",
              "</div>\n",
              "\n",
              "  <div id=\"id_a32b576c-8fe5-40d4-80b5-d6a15171ec78\">\n",
              "    <style>\n",
              "      .colab-df-generate {\n",
              "        background-color: #E8F0FE;\n",
              "        border: none;\n",
              "        border-radius: 50%;\n",
              "        cursor: pointer;\n",
              "        display: none;\n",
              "        fill: #1967D2;\n",
              "        height: 32px;\n",
              "        padding: 0 0 0 0;\n",
              "        width: 32px;\n",
              "      }\n",
              "\n",
              "      .colab-df-generate:hover {\n",
              "        background-color: #E2EBFA;\n",
              "        box-shadow: 0px 1px 2px rgba(60, 64, 67, 0.3), 0px 1px 3px 1px rgba(60, 64, 67, 0.15);\n",
              "        fill: #174EA6;\n",
              "      }\n",
              "\n",
              "      [theme=dark] .colab-df-generate {\n",
              "        background-color: #3B4455;\n",
              "        fill: #D2E3FC;\n",
              "      }\n",
              "\n",
              "      [theme=dark] .colab-df-generate:hover {\n",
              "        background-color: #434B5C;\n",
              "        box-shadow: 0px 1px 3px 1px rgba(0, 0, 0, 0.15);\n",
              "        filter: drop-shadow(0px 1px 2px rgba(0, 0, 0, 0.3));\n",
              "        fill: #FFFFFF;\n",
              "      }\n",
              "    </style>\n",
              "    <button class=\"colab-df-generate\" onclick=\"generateWithVariable('submission')\"\n",
              "            title=\"Generate code using this dataframe.\"\n",
              "            style=\"display:none;\">\n",
              "\n",
              "  <svg xmlns=\"http://www.w3.org/2000/svg\" height=\"24px\"viewBox=\"0 0 24 24\"\n",
              "       width=\"24px\">\n",
              "    <path d=\"M7,19H8.4L18.45,9,17,7.55,7,17.6ZM5,21V16.75L18.45,3.32a2,2,0,0,1,2.83,0l1.4,1.43a1.91,1.91,0,0,1,.58,1.4,1.91,1.91,0,0,1-.58,1.4L9.25,21ZM18.45,9,17,7.55Zm-12,3A5.31,5.31,0,0,0,4.9,8.1,5.31,5.31,0,0,0,1,6.5,5.31,5.31,0,0,0,4.9,4.9,5.31,5.31,0,0,0,6.5,1,5.31,5.31,0,0,0,8.1,4.9,5.31,5.31,0,0,0,12,6.5,5.46,5.46,0,0,0,6.5,12Z\"/>\n",
              "  </svg>\n",
              "    </button>\n",
              "    <script>\n",
              "      (() => {\n",
              "      const buttonEl =\n",
              "        document.querySelector('#id_a32b576c-8fe5-40d4-80b5-d6a15171ec78 button.colab-df-generate');\n",
              "      buttonEl.style.display =\n",
              "        google.colab.kernel.accessAllowed ? 'block' : 'none';\n",
              "\n",
              "      buttonEl.onclick = () => {\n",
              "        google.colab.notebook.generateWithVariable('submission');\n",
              "      }\n",
              "      })();\n",
              "    </script>\n",
              "  </div>\n",
              "\n",
              "    </div>\n",
              "  </div>\n"
            ],
            "application/vnd.google.colaboratory.intrinsic+json": {
              "type": "dataframe",
              "variable_name": "submission",
              "summary": "{\n  \"name\": \"submission\",\n  \"rows\": 79786,\n  \"fields\": [\n    {\n      \"column\": \"sessionID\",\n      \"properties\": {\n        \"dtype\": \"string\",\n        \"num_unique_values\": 79786,\n        \"samples\": [\n          \"SESSION_258991\",\n          \"SESSION_316244\",\n          \"SESSION_281006\"\n        ],\n        \"semantic_type\": \"\",\n        \"description\": \"\"\n      }\n    },\n    {\n      \"column\": \"TARGET\",\n      \"properties\": {\n        \"dtype\": \"number\",\n        \"std\": 4.962652352234722,\n        \"min\": -6.565073633654322,\n        \"max\": 108.42283550583396,\n        \"num_unique_values\": 32102,\n        \"samples\": [\n          2.019692732668445,\n          15.077803085114143,\n          12.662451260067964\n        ],\n        \"semantic_type\": \"\",\n        \"description\": \"\"\n      }\n    }\n  ]\n}"
            }
          },
          "metadata": {},
          "execution_count": 123
        }
      ]
    }
  ]
}